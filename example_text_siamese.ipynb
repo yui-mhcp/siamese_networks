{
 "cells": [
  {
   "cell_type": "markdown",
   "metadata": {},
   "source": [
    "# Example for the Text Siamese model\n",
    "\n",
    "Concept is the same as other siameses models : use a model\\* to embed text and compare their embeddings to determine whether they belong to the same class or not. However, in this notebook, the concept of *class* is not really relevant\\*\\* so the model will compare sentence meanings (whether 2 inputs tells the same thing or not). \n",
    "\n",
    "Currently, this model has not many features compared to the `AudioSiamese` but it will be improved in future updates.\n",
    "\n",
    "Indeed, `text embedding` can be usefull for other topics such as `Question Answering (Q&A)` (for question / context encoding for instance).\n",
    "However this method has not been tested yet so I do not know if it will work or not : surprise ! :D All results, codes and models will be shared in next updates ;)\n",
    "\n",
    "\\* The model used is a classical *Language Modeling (ML)* model (BERT in this case) augmented by some layers for embedding the BERT's output.\n",
    "\n",
    "\\*\\* It is my choice to make *text meaning similarity* but you can base comparison on classes such as *emotion prediction*, *topic prediction*, or even *writer classification* !\n",
    "\n",
    "Note : the trained model shared and presented in this notebook is my 2nd experiment and **not** my final / usable model, it will be refined in future updates ;) \n",
    "\n",
    "Furthermore, I made a small mistake in its *text encoder* which did not lowercase the text. The `Evaluation` shows an evaluation on *valid set* with the modification and, surprisingly, it just lost 3% accuracy. "
   ]
  },
  {
   "cell_type": "markdown",
   "metadata": {},
   "source": [
    "## Imports + model initialization"
   ]
  },
  {
   "cell_type": "code",
   "execution_count": 1,
   "metadata": {
    "tags": []
   },
   "outputs": [
    {
     "name": "stdout",
     "output_type": "stream",
     "text": [
      "Tensorflow version : 2.10.0\n"
     ]
    }
   ],
   "source": [
    "import time\n",
    "import numpy as np\n",
    "import pandas as pd\n",
    "import tensorflow as tf\n",
    "\n",
    "from tqdm import tqdm\n",
    "\n",
    "from models.siamese import TextSiamese\n",
    "from utils.text import TextEncoder\n",
    "from utils import plot, plot_multiple, plot_embedding, plot_confusion_matrix, set_display_options, sample_df\n",
    "from datasets import get_dataset, prepare_dataset, train_test_split, test_dataset_time\n",
    "\n",
    "set_display_options()\n",
    "\n",
    "model_name = 'text_siamese_512'\n",
    "bert_base  = 'bert-base-uncased'\n",
    "\n",
    "print(\"Tensorflow version : {}\".format(tf.__version__))"
   ]
  },
  {
   "cell_type": "code",
   "execution_count": 2,
   "metadata": {},
   "outputs": [
    {
     "name": "stderr",
     "output_type": "stream",
     "text": [
      "Some layers from the model checkpoint at bert-base-uncased were not used when initializing TFBertModel: ['nsp___cls', 'mlm___cls']\n",
      "- This IS expected if you are initializing TFBertModel from the checkpoint of a model trained on another task or with another architecture (e.g. initializing a BertForSequenceClassification model from a BertForPreTraining model).\n",
      "- This IS NOT expected if you are initializing TFBertModel from the checkpoint of a model that you expect to be exactly identical (initializing a BertForSequenceClassification model from a BertForSequenceClassification model).\n",
      "All the layers of TFBertModel were initialized from the model checkpoint at bert-base-uncased.\n",
      "If your task is similar to the task the model of the checkpoint was trained on, you can already use TFBertModel for predictions without further training.\n"
     ]
    },
    {
     "name": "stdout",
     "output_type": "stream",
     "text": [
      "Variable bert_embedding/output/output_layer/kernel:0 from layer bert_embedding/output/output_layer does not have any mapping : re-using its current weights\n",
      "Variable bert_embedding/output/output_layer/bias:0 from layer bert_embedding/output/output_layer does not have any mapping : re-using its current weights\n",
      "Weights transfered successfully !\n",
      "Encoder is not a `tf.keras.Sequential` so you have to handle `normalize` internally !\n",
      "Initializing model with kwargs : {'siamese': {'architecture_name': 'siamese', 'model': <custom_architectures.transformers_arch.bert_arch.BertEmbedding object at 0x0000018F43E1D160>, 'distance_metric': 'euclidian', 'input_signature': (TensorSpec(shape=(None, None), dtype=tf.int32, name=None), TensorSpec(shape=(None,), dtype=tf.int32, name=None))}}\n",
      "Initializing submodel : `siamese` !\n",
      "Submodel siamese saved in pretrained_models\\text_siamese_512\\saving\\siamese.json !\n",
      "Model text_siamese_512 initialized successfully !\n",
      "\n",
      "========== text_siamese_512 ==========\n",
      "Sub model siamese\n",
      "- Inputs \t: [[(None, None), (None,)], [(None, None), (None,)]]\n",
      "- Outputs \t: (None, 1)\n",
      "- Number of layers \t: 6\n",
      "- Number of parameters \t: 110.251 Millions\n",
      "- Model not compiled\n",
      "\n",
      "Already trained on 0 epochs (0 steps)\n",
      "\n",
      "Embedding dim : 512\n",
      "Distance metric : euclidian\n",
      "- Language : en\n",
      "- Vocabulary (size = 30522) : ['[PAD]', '[unused0]', '[unused1]', '[unused2]', '[unused3]', '[unused4]', '[unused5]', '[unused6]', '[unused7]', '[unused8]', '[unused9]', '[unused10]', '[unused11]', '[unused12]', '[unused13]', '[unused14]', '[unused15]', '[unused16]', '[unused17]', '[unused18]', '[unused19]', '[unused20]', '[unused21]', '[unused22]', '[unused23]', ...]\n",
      "\n"
     ]
    }
   ],
   "source": [
    "config = {\n",
    "    'lang'             : 'en',\n",
    "    'embedding_dim'    : 512,\n",
    "    'max_input_length' : 512,\n",
    "    'use_fixed_length_input' : False,\n",
    "    \n",
    "    'text_encoder' : bert_base,\n",
    "    \n",
    "    'normalize'  : True,\n",
    "    'pretrained' : bert_base,\n",
    "    'output_layer_type' : 'bi_lstm',\n",
    "    'output_layer_kwargs' : {'return_sequences' : True},\n",
    "    'final_pooling'     : ['max', 'avg'],\n",
    "    'use_final_dense'   : True\n",
    "}\n",
    "\n",
    "model = TextSiamese(nom = model_name, ** config)\n",
    "\n",
    "print(model)"
   ]
  },
  {
   "cell_type": "code",
   "execution_count": 3,
   "metadata": {},
   "outputs": [
    {
     "name": "stdout",
     "output_type": "stream",
     "text": [
      "\n",
      "========== Summary of siamese ==========\n",
      "\n",
      "Model: \"SiameseNetwork\"\n",
      "__________________________________________________________________________________________________\n",
      "Layer (type)                    Output Shape         Param #     Connected to                     \n",
      "==================================================================================================\n",
      "input_a_0 (InputLayer)          [(None, None)]       0                                            \n",
      "__________________________________________________________________________________________________\n",
      "input_a_1 (InputLayer)          [(None,)]            0                                            \n",
      "__________________________________________________________________________________________________\n",
      "input_b_0 (InputLayer)          [(None, None)]       0                                            \n",
      "__________________________________________________________________________________________________\n",
      "input_b_1 (InputLayer)          [(None,)]            0                                            \n",
      "__________________________________________________________________________________________________\n",
      "bert_embedding (BertEmbedding)  (None, 512)          110250752   input_a_0[0][0]                  \n",
      "                                                                 input_a_1[0][0]                  \n",
      "                                                                 input_b_0[0][0]                  \n",
      "                                                                 input_b_1[0][0]                  \n",
      "__________________________________________________________________________________________________\n",
      "decision_layer (SimilarityLayer (None, 1)            2           bert_embedding[0][0]             \n",
      "                                                                 bert_embedding[1][0]             \n",
      "==================================================================================================\n",
      "Total params: 110,250,754\n",
      "Trainable params: 110,250,754\n",
      "Non-trainable params: 0\n",
      "__________________________________________________________________________________________________\n",
      "\n",
      "Model: \"bert_embedding\"\n",
      "_________________________________________________________________\n",
      "Layer (type)                 Output Shape              Param #   \n",
      "=================================================================\n",
      "embeddings (TransformerToken multiple                  23837184  \n",
      "_________________________________________________________________\n",
      "layer_0 (TransformerLayer)   multiple                  7086336   \n",
      "_________________________________________________________________\n",
      "layer_1 (TransformerLayer)   multiple                  7086336   \n",
      "_________________________________________________________________\n",
      "layer_2 (TransformerLayer)   multiple                  7086336   \n",
      "_________________________________________________________________\n",
      "layer_3 (TransformerLayer)   multiple                  7086336   \n",
      "_________________________________________________________________\n",
      "layer_4 (TransformerLayer)   multiple                  7086336   \n",
      "_________________________________________________________________\n",
      "layer_5 (TransformerLayer)   multiple                  7086336   \n",
      "_________________________________________________________________\n",
      "layer_6 (TransformerLayer)   multiple                  7086336   \n",
      "_________________________________________________________________\n",
      "layer_7 (TransformerLayer)   multiple                  7086336   \n",
      "_________________________________________________________________\n",
      "layer_8 (TransformerLayer)   multiple                  7086336   \n",
      "_________________________________________________________________\n",
      "layer_9 (TransformerLayer)   multiple                  7086336   \n",
      "_________________________________________________________________\n",
      "layer_10 (TransformerLayer)  multiple                  7086336   \n",
      "_________________________________________________________________\n",
      "layer_11 (TransformerLayer)  multiple                  7086336   \n",
      "_________________________________________________________________\n",
      "pooler (BertPooler)          multiple                  590592    \n",
      "_________________________________________________________________\n",
      "output (EmbeddingHead)       multiple                  786944    \n",
      "=================================================================\n",
      "Total params: 110,250,752\n",
      "Trainable params: 110,250,752\n",
      "Non-trainable params: 0\n",
      "_________________________________________________________________\n",
      "Model: \"siamese_decoder\"\n",
      "__________________________________________________________________________________________________\n",
      "Layer (type)                    Output Shape         Param #     Connected to                     \n",
      "==================================================================================================\n",
      "input_1 (InputLayer)            [(None, None, 512)]  0                                            \n",
      "__________________________________________________________________________________________________\n",
      "input_2 (InputLayer)            [(None, None, 512)]  0                                            \n",
      "__________________________________________________________________________________________________\n",
      "decision_layer (SimilarityLayer multiple             2           input_1[0][0]                    \n",
      "                                                                 input_2[0][0]                    \n",
      "==================================================================================================\n",
      "Total params: 2\n",
      "Trainable params: 2\n",
      "Non-trainable params: 0\n",
      "__________________________________________________________________________________________________\n"
     ]
    }
   ],
   "source": [
    "model.summary()\n",
    "model.encoder.summary()\n",
    "model.decoder.summary()"
   ]
  },
  {
   "cell_type": "markdown",
   "metadata": {},
   "source": [
    "## Model instanciation + dataset loading"
   ]
  },
  {
   "cell_type": "code",
   "execution_count": 2,
   "metadata": {},
   "outputs": [
    {
     "name": "stdout",
     "output_type": "stream",
     "text": [
      "Model restoration...\n",
      "Successfully restored siamese from pretrained_models/text_siamese_512/saving/siamese.json !\n",
      "Model text_siamese_512 initialized successfully !\n",
      "Optimizer 'siamese_optimizer' initilized successfully !\n",
      "Submodel siamese compiled !\n",
      "  Loss : {'reduction': 'auto', 'name': 'binary_crossentropy', 'from_logits': False, 'label_smoothing': 0}\n",
      "  Optimizer : {'name': 'Adam', 'learning_rate': 0.001, 'decay': 0.0, 'beta_1': 0.9, 'beta_2': 0.999, 'epsilon': 1e-07, 'amsgrad': False}\n",
      "  Metrics : [{'name': 'binary_accuracy', 'dtype': 'float32', 'threshold': 0.5}, {'name': 'EER', 'dtype': 'float32', 'num_thresholds': 200, 'curve': 'ROC', 'summation_method': 'interpolation', 'thresholds': [0.005025125628140704, 0.010050251256281407, 0.01507537688442211, 0.020100502512562814, 0.02512562814070352, 0.03015075376884422, 0.035175879396984924, 0.04020100502512563, 0.04522613065326633, 0.05025125628140704, 0.05527638190954774, 0.06030150753768844, 0.06532663316582915, 0.07035175879396985, 0.07537688442211055, 0.08040201005025126, 0.08542713567839195, 0.09045226130653267, 0.09547738693467336, 0.10050251256281408, 0.10552763819095477, 0.11055276381909548, 0.11557788944723618, 0.12060301507537688, 0.12562814070351758, 0.1306532663316583, 0.135678391959799, 0.1407035175879397, 0.1457286432160804, 0.1507537688442211, 0.15577889447236182, 0.16080402010050251, 0.1658291457286432, 0.1708542713567839, 0.17587939698492464, 0.18090452261306533, 0.18592964824120603, 0.19095477386934673, 0.19597989949748743, 0.20100502512562815, 0.20603015075376885, 0.21105527638190955, 0.21608040201005024, 0.22110552763819097, 0.22613065326633167, 0.23115577889447236, 0.23618090452261306, 0.24120603015075376, 0.24623115577889448, 0.25125628140703515, 0.2562814070351759, 0.2613065326633166, 0.2663316582914573, 0.271356783919598, 0.27638190954773867, 0.2814070351758794, 0.2864321608040201, 0.2914572864321608, 0.2964824120603015, 0.3015075376884422, 0.3065326633165829, 0.31155778894472363, 0.3165829145728643, 0.32160804020100503, 0.32663316582914576, 0.3316582914572864, 0.33668341708542715, 0.3417085427135678, 0.34673366834170855, 0.35175879396984927, 0.35678391959798994, 0.36180904522613067, 0.36683417085427134, 0.37185929648241206, 0.3768844221105528, 0.38190954773869346, 0.3869346733668342, 0.39195979899497485, 0.3969849246231156, 0.4020100502512563, 0.40703517587939697, 0.4120603015075377, 0.41708542713567837, 0.4221105527638191, 0.4271356783919598, 0.4321608040201005, 0.4371859296482412, 0.44221105527638194, 0.4472361809045226, 0.45226130653266333, 0.457286432160804, 0.4623115577889447, 0.46733668341708545, 0.4723618090452261, 0.47738693467336685, 0.4824120603015075, 0.48743718592964824, 0.49246231155778897, 0.49748743718592964, 0.5025125628140703, 0.507537688442211, 0.5125628140703518, 0.5175879396984925, 0.5226130653266332, 0.5276381909547738, 0.5326633165829145, 0.5376884422110553, 0.542713567839196, 0.5477386934673367, 0.5527638190954773, 0.5577889447236181, 0.5628140703517588, 0.5678391959798995, 0.5728643216080402, 0.5778894472361809, 0.5829145728643216, 0.5879396984924623, 0.592964824120603, 0.5979899497487438, 0.6030150753768844, 0.6080402010050251, 0.6130653266331658, 0.6180904522613065, 0.6231155778894473, 0.628140703517588, 0.6331658291457286, 0.6381909547738693, 0.6432160804020101, 0.6482412060301508, 0.6532663316582915, 0.6582914572864321, 0.6633165829145728, 0.6683417085427136, 0.6733668341708543, 0.678391959798995, 0.6834170854271356, 0.6884422110552764, 0.6934673366834171, 0.6984924623115578, 0.7035175879396985, 0.7085427135678392, 0.7135678391959799, 0.7185929648241206, 0.7236180904522613, 0.7286432160804021, 0.7336683417085427, 0.7386934673366834, 0.7437185929648241, 0.7487437185929648, 0.7537688442211056, 0.7587939698492462, 0.7638190954773869, 0.7688442211055276, 0.7738693467336684, 0.7788944723618091, 0.7839195979899497, 0.7889447236180904, 0.7939698492462312, 0.7989949748743719, 0.8040201005025126, 0.8090452261306532, 0.8140703517587939, 0.8190954773869347, 0.8241206030150754, 0.8291457286432161, 0.8341708542713567, 0.8391959798994975, 0.8442211055276382, 0.8492462311557789, 0.8542713567839196, 0.8592964824120602, 0.864321608040201, 0.8693467336683417, 0.8743718592964824, 0.8793969849246231, 0.8844221105527639, 0.8894472361809045, 0.8944723618090452, 0.8994974874371859, 0.9045226130653267, 0.9095477386934674, 0.914572864321608, 0.9195979899497487, 0.9246231155778895, 0.9296482412060302, 0.9346733668341709, 0.9396984924623115, 0.9447236180904522, 0.949748743718593, 0.9547738693467337, 0.9597989949748744, 0.964824120603015, 0.9698492462311558, 0.9748743718592965, 0.9798994974874372, 0.9849246231155779, 0.9899497487437185, 0.9949748743718593], 'multi_label': False, 'label_weights': None}]\n",
      "\n",
      "========== text_siamese_512 ==========\n",
      "Sub model siamese\n",
      "- Inputs \t: [[(None, None), (None,)], [(None, None), (None,)]]\n",
      "- Outputs \t: (None, 1)\n",
      "- Number of layers \t: 9\n",
      "- Number of parameters \t: 110.269 Millions\n",
      "- Optimizer \t: {'name': 'Adam', 'learning_rate': 0.001, 'decay': 0.0, 'beta_1': 0.9, 'beta_2': 0.999, 'epsilon': 1e-07, 'amsgrad': False}\n",
      "- Loss \t : {'reduction': 'auto', 'name': 'binary_crossentropy', 'from_logits': False, 'label_smoothing': 0}\n",
      "- Metrics\t : [{'name': 'binary_accuracy', 'dtype': 'float32', 'threshold': 0.5}, {'name': 'EER', 'dtype': 'float32', 'num_thresholds': 200, 'curve': 'ROC', 'summation_method': 'interpolation', 'thresholds': [0.005025125628140704, 0.010050251256281407, 0.01507537688442211, 0.020100502512562814, 0.02512562814070352, 0.03015075376884422, 0.035175879396984924, 0.04020100502512563, 0.04522613065326633, 0.05025125628140704, 0.05527638190954774, 0.06030150753768844, 0.06532663316582915, 0.07035175879396985, 0.07537688442211055, 0.08040201005025126, 0.08542713567839195, 0.09045226130653267, 0.09547738693467336, 0.10050251256281408, 0.10552763819095477, 0.11055276381909548, 0.11557788944723618, 0.12060301507537688, 0.12562814070351758, 0.1306532663316583, 0.135678391959799, 0.1407035175879397, 0.1457286432160804, 0.1507537688442211, 0.15577889447236182, 0.16080402010050251, 0.1658291457286432, 0.1708542713567839, 0.17587939698492464, 0.18090452261306533, 0.18592964824120603, 0.19095477386934673, 0.19597989949748743, 0.20100502512562815, 0.20603015075376885, 0.21105527638190955, 0.21608040201005024, 0.22110552763819097, 0.22613065326633167, 0.23115577889447236, 0.23618090452261306, 0.24120603015075376, 0.24623115577889448, 0.25125628140703515, 0.2562814070351759, 0.2613065326633166, 0.2663316582914573, 0.271356783919598, 0.27638190954773867, 0.2814070351758794, 0.2864321608040201, 0.2914572864321608, 0.2964824120603015, 0.3015075376884422, 0.3065326633165829, 0.31155778894472363, 0.3165829145728643, 0.32160804020100503, 0.32663316582914576, 0.3316582914572864, 0.33668341708542715, 0.3417085427135678, 0.34673366834170855, 0.35175879396984927, 0.35678391959798994, 0.36180904522613067, 0.36683417085427134, 0.37185929648241206, 0.3768844221105528, 0.38190954773869346, 0.3869346733668342, 0.39195979899497485, 0.3969849246231156, 0.4020100502512563, 0.40703517587939697, 0.4120603015075377, 0.41708542713567837, 0.4221105527638191, 0.4271356783919598, 0.4321608040201005, 0.4371859296482412, 0.44221105527638194, 0.4472361809045226, 0.45226130653266333, 0.457286432160804, 0.4623115577889447, 0.46733668341708545, 0.4723618090452261, 0.47738693467336685, 0.4824120603015075, 0.48743718592964824, 0.49246231155778897, 0.49748743718592964, 0.5025125628140703, 0.507537688442211, 0.5125628140703518, 0.5175879396984925, 0.5226130653266332, 0.5276381909547738, 0.5326633165829145, 0.5376884422110553, 0.542713567839196, 0.5477386934673367, 0.5527638190954773, 0.5577889447236181, 0.5628140703517588, 0.5678391959798995, 0.5728643216080402, 0.5778894472361809, 0.5829145728643216, 0.5879396984924623, 0.592964824120603, 0.5979899497487438, 0.6030150753768844, 0.6080402010050251, 0.6130653266331658, 0.6180904522613065, 0.6231155778894473, 0.628140703517588, 0.6331658291457286, 0.6381909547738693, 0.6432160804020101, 0.6482412060301508, 0.6532663316582915, 0.6582914572864321, 0.6633165829145728, 0.6683417085427136, 0.6733668341708543, 0.678391959798995, 0.6834170854271356, 0.6884422110552764, 0.6934673366834171, 0.6984924623115578, 0.7035175879396985, 0.7085427135678392, 0.7135678391959799, 0.7185929648241206, 0.7236180904522613, 0.7286432160804021, 0.7336683417085427, 0.7386934673366834, 0.7437185929648241, 0.7487437185929648, 0.7537688442211056, 0.7587939698492462, 0.7638190954773869, 0.7688442211055276, 0.7738693467336684, 0.7788944723618091, 0.7839195979899497, 0.7889447236180904, 0.7939698492462312, 0.7989949748743719, 0.8040201005025126, 0.8090452261306532, 0.8140703517587939, 0.8190954773869347, 0.8241206030150754, 0.8291457286432161, 0.8341708542713567, 0.8391959798994975, 0.8442211055276382, 0.8492462311557789, 0.8542713567839196, 0.8592964824120602, 0.864321608040201, 0.8693467336683417, 0.8743718592964824, 0.8793969849246231, 0.8844221105527639, 0.8894472361809045, 0.8944723618090452, 0.8994974874371859, 0.9045226130653267, 0.9095477386934674, 0.914572864321608, 0.9195979899497487, 0.9246231155778895, 0.9296482412060302, 0.9346733668341709, 0.9396984924623115, 0.9447236180904522, 0.949748743718593, 0.9547738693467337, 0.9597989949748744, 0.964824120603015, 0.9698492462311558, 0.9748743718592965, 0.9798994974874372, 0.9849246231155779, 0.9899497487437185, 0.9949748743718593], 'multi_label': False, 'label_weights': None}]\n",
      "\n",
      "Already trained on 0 epochs (0 steps)\n",
      "\n",
      "Embedding dim : 512\n",
      "Distance metric : euclidian\n",
      "Input language : en\n",
      "Input vocab (size = 30521) : ['[PAD]', '[unused0]', '[unused1]', '[unused2]', '[unused3]', '[unused4]', '[unused5]', '[unused6]', '[unused7]', '[unused8]', '[unused9]', '[unused10]', '[unused11]', '[unused12]', '[unused13]', '[unused14]', '[unused15]', '[unused16]', '[unused17]', '[unused18]', '[unused19]', '[unused20]', '[unused21]', '[unused22]', '[unused23]', '[unused24]', '[unused25]', '[unused26]', '[unused27]', '[unused28]', '[unused29]', '[unused30]', '[unused31]', '[unused32]', '[unused33]', '[unused34]', '[unused35]', '[unused36]', '[unused37]', '[unused38]', '[unused39]', '[unused40]', '[unused41]', '[unused42]', '[unused43]', '[unused44]', '[unused45]', '[unused46]', '[unused47]', '[unused48]']\n",
      "\n"
     ]
    }
   ],
   "source": [
    "model = TextSiamese(nom = model_name)\n",
    "\n",
    "#model.compile(\n",
    "#    optimizer = 'adam', \n",
    "#    optimizer_config = {\n",
    "#        'lr' : {'name' : 'WarmupScheduler', 'maxval' : 1e-3,'minval' : 1e-4, 'factor' : 256, 'warmup_steps' : 4096}\n",
    "#    }\n",
    "#)\n",
    "model.compile(optimizer = 'adam')\n",
    "print(model)"
   ]
  },
  {
   "cell_type": "code",
   "execution_count": 3,
   "metadata": {},
   "outputs": [
    {
     "name": "stdout",
     "output_type": "stream",
     "text": [
      "Loading dataset snli...\n",
      "Dataset length :\n",
      "  Training set : 549361\n",
      "  Validation set : 9842\n"
     ]
    }
   ],
   "source": [
    "datasets = 'snli'\n",
    "\n",
    "dataset = get_dataset(datasets)\n",
    "train, valid = dataset['train'], dataset['valid']\n",
    "\n",
    "\n",
    "print(\"Dataset length :\\n  Training set : {}\\n  Validation set : {}\".format(\n",
    "    len(train), len(valid)\n",
    "))"
   ]
  },
  {
   "cell_type": "markdown",
   "metadata": {},
   "source": [
    "## Training"
   ]
  },
  {
   "cell_type": "code",
   "execution_count": 8,
   "metadata": {},
   "outputs": [
    {
     "name": "stdout",
     "output_type": "stream",
     "text": [
      "Training samples   : 549361 - 8583 batches\n",
      "Validation samples : 9842 - 76 batches\n",
      "Training config :\n",
      "HParams :\n",
      "- augment_prct\t: 0.25\n",
      "- epochs\t: 30\n",
      "- batch_size\t: 64\n",
      "- valid_batch_size\t: 2.0\n",
      "- test_batch_size\t: 1\n",
      "- verbose\t: 1\n",
      "- train_times\t: 1\n",
      "- valid_times\t: 1\n",
      "- train_size\t: None\n",
      "- valid_size\t: None\n",
      "- test_size\t: 4\n",
      "- pred_step\t: -1\n",
      "- shuffle_size\t: 4096\n",
      "\n",
      "Epoch 16/30\n",
      "   2866/Unknown - 1885s 658ms/step - loss: 0.2884 - siamese_BinaryAccuracy: 0.8843 - EER: 0.1161 - AUC: 0.9496\n",
      "Saving at epoch 16 !\n",
      "\n",
      "Making prediction at step 45856\n",
      "2866/2866 [==============================] - 1939s 677ms/step - loss: 0.2884 - siamese_BinaryAccuracy: 0.8843 - EER: 0.1161 - AUC: 0.9496 - val_loss: 0.3517 - val_siamese_BinaryAccuracy: 0.8543 - val_EER: 0.1526 - val_AUC: 0.9162\n",
      "Epoch 17/30\n",
      "2866/2866 [==============================] - ETA: 0s - loss: 0.2762 - siamese_BinaryAccuracy: 0.8922 - EER: 0.1115 - AUC: 0.9542\n",
      "Making prediction at step 48722\n",
      "2866/2866 [==============================] - 1920s 670ms/step - loss: 0.2762 - siamese_BinaryAccuracy: 0.8922 - EER: 0.1115 - AUC: 0.9542 - val_loss: 0.3527 - val_siamese_BinaryAccuracy: 0.8563 - val_EER: 0.1494 - val_AUC: 0.9171\n",
      "Epoch 18/30\n",
      "2542/2866 [=========================>....] - ETA: 3:32 - loss: 0.2671 - siamese_BinaryAccuracy: 0.8957 - EER: 0.1064 - AUC: 0.9576\n",
      "Saving after 1 hour training !\n",
      "2866/2866 [==============================] - ETA: 0s - loss: 0.2675 - siamese_BinaryAccuracy: 0.8955 - EER: 0.1074 - AUC: 0.9574\n",
      "Making prediction at step 51588\n",
      "2866/2866 [==============================] - 1921s 670ms/step - loss: 0.2675 - siamese_BinaryAccuracy: 0.8955 - EER: 0.1074 - AUC: 0.9574 - val_loss: 0.3548 - val_siamese_BinaryAccuracy: 0.8539 - val_EER: 0.1536 - val_AUC: 0.9160\n",
      "Epoch 19/30\n",
      "2866/2866 [==============================] - ETA: 0s - loss: 0.2634 - siamese_BinaryAccuracy: 0.8980 - EER: 0.1043 - AUC: 0.9584\n",
      "Making prediction at step 54454\n",
      "2866/2866 [==============================] - 1919s 669ms/step - loss: 0.2634 - siamese_BinaryAccuracy: 0.8980 - EER: 0.1043 - AUC: 0.9584 - val_loss: 0.3525 - val_siamese_BinaryAccuracy: 0.8537 - val_EER: 0.1541 - val_AUC: 0.9170\n",
      "Epoch 20/30\n",
      "2180/2866 [=====================>........] - ETA: 7:29 - loss: 0.2550 - siamese_BinaryAccuracy: 0.9019 - EER: 0.1017 - AUC: 0.9612\n",
      "Saving after 1 hour training !\n",
      "2866/2866 [==============================] - ETA: 0s - loss: 0.2558 - siamese_BinaryAccuracy: 0.9014 - EER: 0.1024 - AUC: 0.9609\n",
      "Making prediction at step 57320\n",
      "2866/2866 [==============================] - 1921s 670ms/step - loss: 0.2558 - siamese_BinaryAccuracy: 0.9014 - EER: 0.1024 - AUC: 0.9609 - val_loss: 0.3606 - val_siamese_BinaryAccuracy: 0.8503 - val_EER: 0.1555 - val_AUC: 0.9158\n",
      "Epoch 21/30\n",
      "2866/2866 [==============================] - ETA: 0s - loss: 0.2507 - siamese_BinaryAccuracy: 0.9031 - EER: 0.0996 - AUC: 0.9626\n",
      "Saving at epoch 21 !\n",
      "\n",
      "Making prediction at step 60186\n",
      "2866/2866 [==============================] - 1921s 670ms/step - loss: 0.2507 - siamese_BinaryAccuracy: 0.9031 - EER: 0.0996 - AUC: 0.9626 - val_loss: 0.3496 - val_siamese_BinaryAccuracy: 0.8552 - val_EER: 0.1503 - val_AUC: 0.9184\n",
      "Epoch 22/30\n",
      "2866/2866 [==============================] - ETA: 0s - loss: 0.2461 - siamese_BinaryAccuracy: 0.9050 - EER: 0.0970 - AUC: 0.9639\n",
      "Making prediction at step 63052\n",
      "2866/2866 [==============================] - 1918s 669ms/step - loss: 0.2461 - siamese_BinaryAccuracy: 0.9050 - EER: 0.0970 - AUC: 0.9639 - val_loss: 0.3596 - val_siamese_BinaryAccuracy: 0.8542 - val_EER: 0.1530 - val_AUC: 0.9150\n",
      "Epoch 23/30\n",
      "2556/2866 [=========================>....] - ETA: 3:23 - loss: 0.2410 - siamese_BinaryAccuracy: 0.9074 - EER: 0.0950 - AUC: 0.9656\n",
      "Saving after 1 hour training !\n",
      "2866/2866 [==============================] - ETA: 0s - loss: 0.2412 - siamese_BinaryAccuracy: 0.9073 - EER: 0.0953 - AUC: 0.9655\n",
      "Making prediction at step 65918\n",
      "2866/2866 [==============================] - 1920s 670ms/step - loss: 0.2412 - siamese_BinaryAccuracy: 0.9073 - EER: 0.0953 - AUC: 0.9655 - val_loss: 0.3590 - val_siamese_BinaryAccuracy: 0.8559 - val_EER: 0.1496 - val_AUC: 0.9157\n",
      "Epoch 24/30\n",
      "2866/2866 [==============================] - ETA: 0s - loss: 0.2366 - siamese_BinaryAccuracy: 0.9095 - EER: 0.0927 - AUC: 0.9668\n",
      "Making prediction at step 68784\n",
      "2866/2866 [==============================] - 1917s 669ms/step - loss: 0.2366 - siamese_BinaryAccuracy: 0.9095 - EER: 0.0927 - AUC: 0.9668 - val_loss: 0.3672 - val_siamese_BinaryAccuracy: 0.8529 - val_EER: 0.1523 - val_AUC: 0.9141\n",
      "Epoch 25/30\n",
      "2198/2866 [======================>.......] - ETA: 7:17 - loss: 0.2306 - siamese_BinaryAccuracy: 0.9120 - EER: 0.0896 - AUC: 0.9686\n",
      "Saving after 1 hour training !\n",
      "2866/2866 [==============================] - ETA: 0s - loss: 0.2310 - siamese_BinaryAccuracy: 0.9118 - EER: 0.0905 - AUC: 0.9685\n",
      "Making prediction at step 71650\n",
      "2866/2866 [==============================] - 1919s 670ms/step - loss: 0.2310 - siamese_BinaryAccuracy: 0.9118 - EER: 0.0905 - AUC: 0.9685 - val_loss: 0.3552 - val_siamese_BinaryAccuracy: 0.8578 - val_EER: 0.1466 - val_AUC: 0.9175\n",
      "Epoch 26/30\n",
      "2866/2866 [==============================] - ETA: 0s - loss: 0.2281 - siamese_BinaryAccuracy: 0.9133 - EER: 0.0892 - AUC: 0.9693\n",
      "Making prediction at step 74516\n",
      "2866/2866 [==============================] - 1917s 669ms/step - loss: 0.2281 - siamese_BinaryAccuracy: 0.9133 - EER: 0.0892 - AUC: 0.9693 - val_loss: 0.3605 - val_siamese_BinaryAccuracy: 0.8517 - val_EER: 0.1535 - val_AUC: 0.9168\n",
      "Epoch 27/30\n",
      "1840/2866 [==================>...........] - ETA: 11:12 - loss: 0.2215 - siamese_BinaryAccuracy: 0.9167 - EER: 0.0862 - AUC: 0.9712\n",
      "Saving after 1 hour training !\n",
      "2866/2866 [==============================] - ETA: 0s - loss: 0.2225 - siamese_BinaryAccuracy: 0.9161 - EER: 0.0869 - AUC: 0.9708\n",
      "Making prediction at step 77382\n",
      "2866/2866 [==============================] - 1918s 669ms/step - loss: 0.2225 - siamese_BinaryAccuracy: 0.9161 - EER: 0.0869 - AUC: 0.9708 - val_loss: 0.3668 - val_siamese_BinaryAccuracy: 0.8510 - val_EER: 0.1555 - val_AUC: 0.9148\n",
      "Epoch 28/30\n",
      "2866/2866 [==============================] - ETA: 0s - loss: 0.2195 - siamese_BinaryAccuracy: 0.9171 - EER: 0.0851 - AUC: 0.9715\n",
      "Making prediction at step 80248\n",
      "2866/2866 [==============================] - 1916s 669ms/step - loss: 0.2195 - siamese_BinaryAccuracy: 0.9171 - EER: 0.0851 - AUC: 0.9715 - val_loss: 0.3627 - val_siamese_BinaryAccuracy: 0.8517 - val_EER: 0.1553 - val_AUC: 0.9165\n",
      "Epoch 29/30\n",
      "1483/2866 [==============>...............] - ETA: 15:06 - loss: 0.2136 - siamese_BinaryAccuracy: 0.9195 - EER: 0.0826 - AUC: 0.9731\n",
      "Saving after 1 hour training !\n",
      "2866/2866 [==============================] - ETA: 0s - loss: 0.2150 - siamese_BinaryAccuracy: 0.9189 - EER: 0.0838 - AUC: 0.9727\n",
      "Making prediction at step 83114\n",
      "2866/2866 [==============================] - 1919s 670ms/step - loss: 0.2150 - siamese_BinaryAccuracy: 0.9189 - EER: 0.0838 - AUC: 0.9727 - val_loss: 0.3651 - val_siamese_BinaryAccuracy: 0.8547 - val_EER: 0.1482 - val_AUC: 0.9160\n",
      "Epoch 30/30\n",
      "2866/2866 [==============================] - ETA: 0s - loss: 0.2093 - siamese_BinaryAccuracy: 0.9215 - EER: 0.0813 - AUC: 0.9743\n",
      "Making prediction at step 85980\n",
      "2866/2866 [==============================] - 1916s 669ms/step - loss: 0.2093 - siamese_BinaryAccuracy: 0.9215 - EER: 0.0813 - AUC: 0.9743 - val_loss: 0.3625 - val_siamese_BinaryAccuracy: 0.8533 - val_EER: 0.1488 - val_AUC: 0.9175\n",
      "Training lasted 8h 4min 2sec !\n",
      "Submodel siamese saved in pretrained_models\\text_siamese_512\\saving\\siamese.json !\n"
     ]
    }
   ],
   "source": [
    "epochs = 15\n",
    "batch_size = 64\n",
    "shuffle_size = batch_size * 64\n",
    "\n",
    "print(\"Training samples   : {} - {} batches\".format(len(train), len(train) // batch_size))\n",
    "print(\"Validation samples : {} - {} batches\".format(len(valid), len(valid) // (batch_size * 2)))\n",
    "\n",
    "model.siamese.get_layer('bert_embedding').freeze(trainable = False)\n",
    "\n",
    "hist = model.train(\n",
    "    train, validation_data = valid, \n",
    "    epochs = epochs, batch_size = batch_size, valid_batch_size = 2.,\n",
    "    shuffle_size = shuffle_size\n",
    ")"
   ]
  },
  {
   "cell_type": "code",
   "execution_count": 4,
   "metadata": {},
   "outputs": [
    {
     "data": {
      "image/png": "[encoded data removed]",
      "text/plain": [
       "<Figure size 720x432 with 4 Axes>"
      ]
     },
     "metadata": {
      "needs_background": "dark"
     },
     "output_type": "display_data"
    },
    {
     "name": "stdout",
     "output_type": "stream",
     "text": [
      "===== History =====\n",
      "         AUC       EER      loss  siamese_BinaryAccuracy   val_AUC   val_EER  val_loss  val_siamese_BinaryAccuracy\n",
      "0   0.781572  0.291856  0.568147                0.711822  0.837055  0.244518  0.496633                    0.766348\n",
      "1   0.851455  0.226967  0.485682                0.774781  0.867431  0.210123  0.454535                    0.791956\n",
      "2   0.875345  0.203163  0.447108                0.799411  0.877874  0.196455  0.428280                    0.811053\n",
      "3   0.888949  0.188099  0.422309                0.813959  0.893856  0.179183  0.401784                    0.830729\n",
      "4   0.899313  0.176988  0.403063                0.825167  0.895614  0.174076  0.393960                    0.832465\n",
      "5   0.904751  0.170846  0.391535                0.831151  0.902812  0.167768  0.378984                    0.840422\n",
      "6   0.912120  0.162564  0.376991                0.839676  0.900677  0.170321  0.380518                    0.840278\n",
      "7   0.917721  0.156618  0.365124                0.845742  0.905381  0.163713  0.370704                    0.843895\n",
      "8   0.923074  0.150815  0.353671                0.851931  0.911645  0.161460  0.361451                    0.847801\n",
      "9   0.927094  0.145679  0.344198                0.856839  0.907859  0.163262  0.369088                    0.844763\n",
      "10  0.928649  0.143146  0.340108                0.858930  0.910737  0.161160  0.363326                    0.849537\n",
      "11  0.932792  0.138564  0.330710                0.863483  0.911395  0.158306  0.360480                    0.849248\n",
      "..       ...       ...       ...                     ...       ...       ...       ...                         ...\n",
      "18  0.957813  0.104278  0.264696                0.896994  0.916993  0.154100  0.352456                    0.853733\n",
      "19  0.959611  0.102367  0.259193                0.899326  0.915841  0.155452  0.360618                    0.850260\n",
      "20  0.961568  0.099578  0.253310                0.901997  0.918413  0.150345  0.349614                    0.855179\n",
      "21  0.963428  0.097029  0.247290                0.904428  0.915010  0.153049  0.359596                    0.854167\n",
      "22  0.964663  0.095260  0.243293                0.906205  0.915701  0.149594  0.358974                    0.855903\n",
      "23  0.966139  0.092662  0.238410                0.908444  0.914065  0.152298  0.367176                    0.852865\n",
      "24  0.967543  0.090497  0.233425                0.910842  0.917535  0.146591  0.355154                    0.857784\n",
      "25  0.968626  0.089243  0.229757                0.912179  0.916801  0.153500  0.360492                    0.851707\n",
      "26  0.969903  0.086874  0.225135                0.914595  0.914831  0.155452  0.366819                    0.850984\n",
      "27  0.970884  0.085127  0.221304                0.916286  0.916492  0.155302  0.362734                    0.851707\n",
      "28  0.971904  0.083789  0.217607                0.917602  0.916002  0.148243  0.365112                    0.854745\n",
      "29  0.973117  0.081305  0.212976                0.919579  0.917525  0.148843  0.362516                    0.853299\n",
      "\n",
      "[30 rows x 8 columns]\n"
     ]
    }
   ],
   "source": [
    "model.plot_history()\n",
    "print(model.history)"
   ]
  },
  {
   "cell_type": "markdown",
   "metadata": {},
   "source": [
    "## Evaluation"
   ]
  },
  {
   "cell_type": "code",
   "execution_count": null,
   "metadata": {},
   "outputs": [],
   "source": [
    "model.test(valid)"
   ]
  },
  {
   "cell_type": "markdown",
   "metadata": {},
   "source": [
    "## Prediction"
   ]
  },
  {
   "cell_type": "code",
   "execution_count": 4,
   "metadata": {},
   "outputs": [
    {
     "name": "stdout",
     "output_type": "stream",
     "text": [
      "Similarity : 96.22 % (target : entailment)\n",
      "  Sentence x : The tiny girl dressed in a butterfly ballet costume, waves her wand near a nutcracker statue.\n",
      "  Sentence y : A small girl dances ballet.\n",
      "\n",
      "Similarity : 90.62 % (target : neutral)\n",
      "  Sentence x : A boat docked on a river.\n",
      "  Sentence y : The boat is a fishing boat.\n",
      "\n",
      "Similarity : 96.71 % (target : entailment)\n",
      "  Sentence x : Two horses, one black and one brown, are pulling a man outside.\n",
      "  Sentence y : A man is with two animals.\n",
      "\n",
      "Similarity : 97.09 % (target : neutral)\n",
      "  Sentence x : A man in a gray long-sleeved shirt is making a transaction with another person from his street market.\n",
      "  Sentence y : A man is trying to sell his bowling ball collection\n",
      "\n",
      "Similarity : 91.17 % (target : entailment)\n",
      "  Sentence x : A old man sells hardware parts on a dirty sidewalk.\n",
      "  Sentence y : The man is outside.\n",
      "\n",
      "Similarity : 99.93 % (target : neutral)\n",
      "  Sentence x : A baseball player sliding toward second base.\n",
      "  Sentence y : A tall baseball player sliding toward second base.\n",
      "\n",
      "Similarity : 95.01 % (target : contradiction)\n",
      "  Sentence x : Three children are in the process of jumping into a pool in what appears to be a suburban backyard.\n",
      "  Sentence y : The backyard is in the front of the house.\n",
      "\n",
      "Similarity : 96.62 % (target : entailment)\n",
      "  Sentence x : A man in a black hoodie watching a man in a red cap.\n",
      "  Sentence y : There is a man watching another man.\n",
      "\n",
      "Similarity : 95.36 % (target : contradiction)\n",
      "  Sentence x : A man with a mustache is playing ice hockey with snow in the background.\n",
      "  Sentence y : People are swimming in the lake.\n",
      "\n",
      "Similarity : 95.17 % (target : contradiction)\n",
      "  Sentence x : A small girl wearing a pink jacket is riding on a carousel.\n",
      "  Sentence y : The girl is moving at the speed of light.\n",
      "\n"
     ]
    }
   ],
   "source": [
    "for idx, row in valid.sample(10, random_state = 0).iterrows():\n",
    "    inp_x = {k[:-2] : row[k] for k in row.index if k.endswith('_x')}\n",
    "    inp_y = {k[:-2] : row[k] for k in row.index if k.endswith('_y')}\n",
    "    \n",
    "    embed_x = model.embed(inp_x)\n",
    "    embed_y = model.embed(inp_y)\n",
    "    \n",
    "    simi = model.pred_similarity(embed_x, embed_y)\n",
    "    \n",
    "    print(\"Similarity : {:.2f} % (target : {})\\n  Sentence x : {}\\n  Sentence y : {}\\n\".format(\n",
    "        np.squeeze(simi) * 100, row['label'], inp_x['text'], inp_y['text']\n",
    "    ))\n"
   ]
  },
  {
   "cell_type": "markdown",
   "metadata": {},
   "source": [
    "## Confusion matrix"
   ]
  },
  {
   "cell_type": "code",
   "execution_count": 6,
   "metadata": {},
   "outputs": [
    {
     "data": {
      "text/plain": [
       "<Figure size 360x360 with 0 Axes>"
      ]
     },
     "metadata": {},
     "output_type": "display_data"
    },
    {
     "data": {
      "image/png": "[encoded data removed]",
      "text/plain": [
       "<Figure size 360x360 with 2 Axes>"
      ]
     },
     "metadata": {},
     "output_type": "display_data"
    }
   ],
   "source": [
    "inp_x = valid[[col for col in valid.columns if col.endswith('_x')]]\n",
    "inp_y = valid[[col for col in valid.columns if col.endswith('_y')]]\n",
    "\n",
    "inp_x = inp_x.rename({k : k[:-2] for k in inp_x.columns}, axis = 'columns')\n",
    "inp_y = inp_y.rename({k : k[:-2] for k in inp_y.columns}, axis = 'columns')\n",
    "\n",
    "emb_x = model.embed(inp_x)\n",
    "emb_y = model.embed(inp_y)\n",
    "\n",
    "simi = model.pred_similarity(emb_x, emb_y)\n",
    "\n",
    "plot_confusion_matrix(pred = tf.cast(simi > 0.5, tf.int32), true = valid['same'].values.astype(np.int32), figsize = (5, 5))"
   ]
  },
  {
   "cell_type": "markdown",
   "metadata": {},
   "source": [
    "## Tests"
   ]
  },
  {
   "cell_type": "code",
   "execution_count": 4,
   "metadata": {},
   "outputs": [
    {
     "name": "stdout",
     "output_type": "stream",
     "text": [
      "Original dataset : <ZipDataset shapes: ({label: (), text_x: (), text_y: (), same: ()}, {label: (), text_x: (), text_y: (), same: ()}), types: ({label: tf.string, text_x: tf.string, text_y: tf.string, same: tf.bool}, {label: tf.string, text_x: tf.string, text_y: tf.string, same: tf.bool})>\n",
      "- Dataset after encoding : <ParallelMapDataset shapes: (((((None,), ()), ((None,), ())), ()), ((((None,), ()), ((None,), ())), ())), types: ((((tf.int32, tf.int32), (tf.int32, tf.int32)), tf.int32), (((tf.int32, tf.int32), (tf.int32, tf.int32)), tf.int32))>\n",
      "- Dataset after filtering : <FilterDataset shapes: (((((None,), ()), ((None,), ())), ()), ((((None,), ()), ((None,), ())), ())), types: ((((tf.int32, tf.int32), (tf.int32, tf.int32)), tf.int32), (((tf.int32, tf.int32), (tf.int32, tf.int32)), tf.int32))>\n",
      "- Dataset after augmentation : <ParallelMapDataset shapes: (((((None,), ()), ((None,), ())), ()), ((((None,), ()), ((None,), ())), ())), types: ((((tf.int32, tf.int32), (tf.int32, tf.int32)), tf.int32), (((tf.int32, tf.int32), (tf.int32, tf.int32)), tf.int32))>\n",
      "- Dataset after batch : <PaddedBatchDataset shapes: (((((None, None), (None,)), ((None, None), (None,))), (None,)), ((((None, None), (None,)), ((None, None), (None,))), (None,))), types: ((((tf.int32, tf.int32), (tf.int32, tf.int32)), tf.int32), (((tf.int32, tf.int32), (tf.int32, tf.int32)), tf.int32))>\n",
      "- Dataset after mapping : <ParallelMapDataset shapes: ((((None, None), (None,)), ((None, None), (None,))), (None,)), types: (((tf.int32, tf.int32), (tf.int32, tf.int32)), tf.int32)>\n"
     ]
    },
    {
     "name": "stderr",
     "output_type": "stream",
     "text": [
      "49it [00:01, 43.88it/s]"
     ]
    },
    {
     "name": "stdout",
     "output_type": "stream",
     "text": [
      "\n",
      "50 batchs in 1.120 sec sec (44.650 batch / sec)\n",
      "Batch infos : \n",
      "Element 0 : \n",
      " Element 0 : \n",
      "  Element 0 : shape : (32, 32) - type : <dtype: 'int32'> - min : 0.000 - max : 29195.000\n",
      "  Element 1 : shape : (32,) - type : <dtype: 'int32'> - min : 10.000 - max : 32.000\n",
      " Element 1 : \n",
      "  Element 0 : shape : (32, 24) - type : <dtype: 'int32'> - min : 0.000 - max : 29515.000\n",
      "  Element 1 : shape : (32,) - type : <dtype: 'int32'> - min : 6.000 - max : 24.000\n",
      "Element 1 : shape : (32,) - type : <dtype: 'int32'> - min : 0.000 - max : 1.000\n"
     ]
    },
    {
     "name": "stderr",
     "output_type": "stream",
     "text": [
      "\n"
     ]
    },
    {
     "data": {
      "text/plain": [
       "1.1198177337646484"
      ]
     },
     "execution_count": 4,
     "metadata": {},
     "output_type": "execute_result"
    }
   ],
   "source": [
    "config = model.get_dataset_config(batch_size = 16, is_validation = False, shuffle_size = 0)\n",
    "ds = prepare_dataset(train, ** config, debug = True)\n",
    "\n",
    "test_dataset_time(ds, steps = 50)"
   ]
  },
  {
   "cell_type": "code",
   "execution_count": null,
   "metadata": {},
   "outputs": [],
   "source": [
    "from custom_train_objects.optimizers import WarmupScheduler\n",
    "\n",
    "lr = WarmupScheduler(maxval = 1e-3, minval = 1e-4, factor = 256, warmup_steps = 4096)\n",
    "lr.plot(25000)"
   ]
  },
  {
   "cell_type": "code",
   "execution_count": 6,
   "metadata": {},
   "outputs": [
    {
     "data": {
      "text/plain": [
       "<tf.Variable 'UnreadVariable' shape=() dtype=float32, numpy=0.0005>"
      ]
     },
     "execution_count": 6,
     "metadata": {},
     "output_type": "execute_result"
    }
   ],
   "source": [
    "lr = model.get_optimizer().learning_rate\n",
    "lr.assign(5e-4)"
   ]
  },
  {
   "cell_type": "code",
   "execution_count": 7,
   "metadata": {},
   "outputs": [
    {
     "name": "stdout",
     "output_type": "stream",
     "text": [
      "<tf.Variable 'learning_rate:0' shape=() dtype=float32, numpy=0.0005>\n"
     ]
    }
   ],
   "source": [
    "lr = model.get_optimizer().learning_rate\n",
    "print(lr)"
   ]
  },
  {
   "cell_type": "code",
   "execution_count": null,
   "metadata": {},
   "outputs": [],
   "source": []
  }
 ],
 "metadata": {
  "kernelspec": {
   "display_name": "Python 3 (ipykernel)",
   "language": "python",
   "name": "python3"
  },
  "language_info": {
   "codemirror_mode": {
    "name": "ipython",
    "version": 3
   },
   "file_extension": ".py",
   "mimetype": "text/x-python",
   "name": "python",
   "nbconvert_exporter": "python",
   "pygments_lexer": "ipython3",
   "version": "3.10.5"
  }
 },
 "nbformat": 4,
 "nbformat_minor": 4
}
