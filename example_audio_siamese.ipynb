{
 "cells": [
  {
   "cell_type": "markdown",
   "metadata": {},
   "source": [
    "# Example for the Audio Siamese model\n",
    "\n",
    "**IMPORTANT : the `GE2E`-loss based encoder models are an evolution of `Siamese Networks`, it may therefore be interesting to check the `example_audio_encoder` if you do not have specific reasons to prefer `Siamese Networks` ;)**\n",
    "\n",
    "This notebook shows the core power of `siamese networks` : the ability to generalize to unseen labels !\n",
    "\n",
    "The idea is the following : \n",
    "1. Split the `common_voice` + `voxforge` datasets (or `LibriSpeech`) in 2 subsets where **all** speakers are different (i.e. no speaker from valid set is in the train set and vice-versa)\n",
    "2. Create *siamese dataset format* for both subsets\n",
    "3. Preload a large amount of audios : siamese datasets work with pairs of same / not same. The same datas appears in multiple pairs. To avoid reloading multiple times the same data, we cache them ! It is the reason why I use an `AudioSiameseGenerator` as dataset (it also works without but it is far slower). \n",
    "4. Train the model on the `train_set` and evaluate it on `valid_set`. Reminder : **all** validation metrics will be on **new labels** (new speakers)\n",
    "5. Make funny plots !\n",
    "\n",
    "Performance note : when caching 100% of the dataset I achieve a 400ms/batch performance while a 2s/batch when loading a smaller part (and far more if not using the generator).\n",
    "\n",
    "*Raw Audio* vs *Mel spectrogram* input : both are really performant (maybe raw audio is slighly better) but it seems that `mel-based` models are better to use in the `SV2TTS` architecture (cf https://github.com/yui-mhcp/text_to_speech project).  "
   ]
  },
  {
   "cell_type": "markdown",
   "metadata": {},
   "source": [
    "## Imports + model initialization"
   ]
  },
  {
   "cell_type": "code",
   "execution_count": 1,
   "metadata": {
    "tags": []
   },
   "outputs": [
    {
     "name": "stdout",
     "output_type": "stream",
     "text": [
      "Tensorflow version : 2.10.0\n"
     ]
    }
   ],
   "source": [
    "import time\n",
    "import numpy as np\n",
    "import pandas as pd\n",
    "import tensorflow as tf\n",
    "\n",
    "from tqdm import tqdm\n",
    "from sklearn.utils import shuffle as sklearn_shuffle\n",
    "\n",
    "from models import get_pretrained\n",
    "from models.siamese import AudioSiamese\n",
    "from custom_train_objects import AudioSiameseGenerator\n",
    "from utils import plot, plot_multiple, plot_embedding, plot_confusion_matrix, set_display_options, sample_df\n",
    "from datasets import get_dataset, prepare_dataset, train_test_split, test_dataset_time\n",
    "\n",
    "set_display_options()\n",
    "\n",
    "model_name = 'audio_siamese_256_mel_lstm'\n",
    "\n",
    "print(\"Tensorflow version : {}\".format(tf.__version__))"
   ]
  },
  {
   "cell_type": "code",
   "execution_count": 3,
   "metadata": {
    "tags": []
   },
   "outputs": [
    {
     "name": "stdout",
     "output_type": "stream",
     "text": [
      "Set `use_mask = True` by default as the masking operation is supported. To remove this message or change the behavior, explicitely pass `use_mask = ...`\n",
      "Initializing model with kwargs : {'siamese': {'architecture_name': 'siamese', 'model': <keras.engine.sequential.Sequential object at 0x000002283989CC40>, 'distance_metric': 'euclidian', 'input_shape': (None, 80)}}\n",
      "Initializing submodel : `siamese` !\n",
      "Submodel siamese saved in pretrained_models\\audio_siamese_256_mel_lstm\\saving\\siamese.json !\n",
      "Model audio_siamese_256_mel_lstm initialized successfully !\n",
      "\n",
      "========== audio_siamese_256_mel_lstm ==========\n",
      "Sub model siamese\n",
      "- Inputs \t: [(None, None, 80), (None, None, 80)]\n",
      "- Outputs \t: (None, 1)\n",
      "- Number of layers \t: 4\n",
      "- Number of parameters \t: 2.669 Millions\n",
      "- Model not compiled\n",
      "\n",
      "Already trained on 0 epochs (0 steps)\n",
      "\n",
      "- Embedding dim   : 256\n",
      "- Distance metric : euclidian\n",
      "- Audio rate : 22050\n",
      "- # mel channels : 80\n",
      "\n"
     ]
    }
   ],
   "source": [
    "input_type    = model_name.split('_')[3]\n",
    "embedding_dim = int(model_name.split('_')[2])\n",
    "\n",
    "config = {\n",
    "    'audio_format'  : input_type,\n",
    "    'audio_rate'    : 22050,\n",
    "    'use_fixed_length_input' : False,\n",
    "    'embedding_dim' : embedding_dim,\n",
    "    'distance_metric' : 'euclidian',\n",
    "    \n",
    "    'normalize'        : True,\n",
    "    'max_audio_time'   : 5,\n",
    "    'flatten_type'     : 'lstm' if input_type == 'mel' else 'max',\n",
    "    'final_activation' : 'relu'\n",
    "}\n",
    "\n",
    "model = AudioSiamese(nom = model_name, ** config)\n",
    "\n",
    "print(model)\n",
    "#model.encoder.summary()"
   ]
  },
  {
   "cell_type": "markdown",
   "metadata": {},
   "source": [
    "## Model instanciation + dataset loading\n",
    "\n",
    "The `RMSProp` optimizer seems to give faster result than `Adam` but no rigorous comparison. "
   ]
  },
  {
   "cell_type": "code",
   "execution_count": 2,
   "metadata": {
    "tags": []
   },
   "outputs": [
    {
     "name": "stdout",
     "output_type": "stream",
     "text": [
      "Model restoration...\n",
      "Initializing submodel : `siamese` !\n",
      "Successfully restored siamese from pretrained_models/audio_siamese_256_mel_lstm/saving/siamese.json !\n",
      "Model audio_siamese_256_mel_lstm initialized successfully !\n",
      "Optimizer 'siamese_optimizer' initilized successfully !\n",
      "Submodel siamese compiled !\n",
      "  Loss : {'reduction': 'none', 'name': 'binary_crossentropy', 'from_logits': False, 'label_smoothing': 0.0, 'axis': -1}\n",
      "  Optimizer : {'name': 'RMSprop', 'learning_rate': 0.001, 'decay': 0.0, 'rho': 0.9, 'momentum': 0.0, 'epsilon': 1e-07, 'centered': False}\n",
      "  Metrics : [{'name': 'binary_accuracy', 'dtype': 'float32', 'threshold': 0.5}, {'name': 'EER', 'dtype': 'float32', 'num_thresholds': 200, 'curve': 'ROC', 'summation_method': 'interpolation', 'multi_label': False, 'num_labels': None, 'label_weights': None, 'from_logits': False}]\n",
      "\n",
      "========== audio_siamese_256_mel_lstm ==========\n",
      "Sub model siamese\n",
      "- Inputs \t: [(None, None, 80), (None, None, 80)]\n",
      "- Outputs \t: (None, 1)\n",
      "- Number of layers \t: 4\n",
      "- Number of parameters \t: 2.669 Millions\n",
      "- Optimizer \t: {'name': 'RMSprop', 'learning_rate': 0.001, 'decay': 0.0, 'rho': 0.9, 'momentum': 0.0, 'epsilon': 1e-07, 'centered': False}\n",
      "- Loss \t : {'reduction': 'none', 'name': 'binary_crossentropy', 'from_logits': False, 'label_smoothing': 0.0, 'axis': -1}\n",
      "- Metrics\t : [{'name': 'binary_accuracy', 'dtype': 'float32', 'threshold': 0.5}, {'name': 'EER', 'dtype': 'float32', 'num_thresholds': 200, 'curve': 'ROC', 'summation_method': 'interpolation', 'multi_label': False, 'num_labels': None, 'label_weights': None, 'from_logits': False}]\n",
      "\n",
      "Already trained on 0 epochs (0 steps)\n",
      "\n",
      "- Embedding dim   : 256\n",
      "- Distance metric : euclidian\n",
      "- Audio rate : 22050\n",
      "- # mel channels : 80\n",
      "\n"
     ]
    }
   ],
   "source": [
    "model = AudioSiamese(nom = model_name)\n",
    "\n",
    "#model.compile(\n",
    "#    optimizer = 'adam', \n",
    "#    optimizer_config = {\n",
    "#        'lr' : {'name' : 'WarmupScheduler', 'maxval' : 1e-3,'minval' : 1e-4, 'factor' : 256, 'warmup_steps' : 4096}\n",
    "#    }\n",
    "#)\n",
    "model.compile(optimizer = 'rmsprop')\n",
    "print(model)"
   ]
  },
  {
   "cell_type": "markdown",
   "metadata": {},
   "source": [
    "## Dataset loading\n",
    "\n",
    "I left the 3 options for dataset : french only (`CommonVoice + VoxForge`), english only (`LLibriSpeech`) or a mixture of both. You just have to execute one of them for training / testing."
   ]
  },
  {
   "cell_type": "code",
   "execution_count": null,
   "metadata": {
    "tags": []
   },
   "outputs": [
    {
     "name": "stdout",
     "output_type": "stream",
     "text": [
      "Loading dataset common_voice...\n",
      "Loading dataset voxforge...\n"
     ]
    }
   ],
   "source": [
    "preload = False\n",
    "datasets = ['common_voice', 'voxforge']\n",
    "\n",
    "dataset = get_dataset(datasets)\n",
    "train, valid = train_test_split(dataset, valid_size = 256, split_by_unique = True)\n",
    "\n",
    "train = AudioSiameseGenerator(\n",
    "    train, rate = model.audio_rate, mel_fn = model.mel_fn, nb_unique = 768, preload = preload,\n",
    "    cache_size = 50000, random_state = 10\n",
    ")\n",
    "valid = AudioSiameseGenerator(\n",
    "    valid, rate = model.audio_rate, mel_fn = model.mel_fn, nb_unique = 256, preload = True\n",
    ")\n",
    "\n",
    "print(\"Dataset length :\\n  Training set : {}\\n  Validation set : {}\".format(\n",
    "    len(train), len(valid)))"
   ]
  },
  {
   "cell_type": "code",
   "execution_count": 3,
   "metadata": {},
   "outputs": [
    {
     "name": "stdout",
     "output_type": "stream",
     "text": [
      "Loading dataset librispeech...\n"
     ]
    },
    {
     "name": "stderr",
     "output_type": "stream",
     "text": [
      "100%|████████████████████████████████████████████████████████████████████████████████| 256/256 [00:10<00:00, 23.89it/s]\n",
      "100%|████████████████████████████████████████████████████████████████████████████| 48364/48364 [54:07<00:00, 14.89it/s]\n",
      "100%|█████████████████████████████████████████████████████████████████████████████████| 40/40 [00:00<00:00, 102.54it/s]\n",
      "100%|██████████████████████████████████████████████████████████████████████████████| 2439/2439 [03:28<00:00, 11.71it/s]"
     ]
    },
    {
     "name": "stdout",
     "output_type": "stream",
     "text": [
      "Dataset length :\n",
      "  Training set : 25600\n",
      "  Validation set : 4000\n"
     ]
    },
    {
     "name": "stderr",
     "output_type": "stream",
     "text": [
      "\n"
     ]
    }
   ],
   "source": [
    "ds = 'librispeech'\n",
    "preload = True\n",
    "\n",
    "dataset = get_dataset(ds, shuffle = True)\n",
    "train, valid = dataset['train'], dataset['valid']\n",
    "\n",
    "train = AudioSiameseGenerator(\n",
    "    train, rate = model.audio_rate, mel_fn = model.mel_fn, nb_unique = 256, max_by_id = 100,\n",
    "    cache_size = 75000, min_apparition = 1, shuffle = True, preload = preload, random_state = 10, tqdm = tqdm\n",
    ")\n",
    "valid = AudioSiameseGenerator(\n",
    "    valid, rate = model.audio_rate, mel_fn = model.mel_fn, nb_unique = 40, preload = preload, shuffle = False, tqdm = tqdm\n",
    ")\n",
    "\n",
    "print(\"Dataset length :\\n  Training set : {}\\n  Validation set : {}\".format(len(train), len(valid)))"
   ]
  },
  {
   "cell_type": "code",
   "execution_count": null,
   "metadata": {},
   "outputs": [],
   "source": [
    "def concat(ds1, ds2):\n",
    "    ds = pd.concat([ds1, ds2], ignore_index = True).dropna(axis = 'columns')\n",
    "    ds = sklearn_shuffle(ds, random_state = 10)\n",
    "    return ds\n",
    "\n",
    "preload = False\n",
    "fr_ds = ['common_voice', 'voxforge']\n",
    "\n",
    "libri_speech = get_dataset('librispeech', shuffle = True)\n",
    "fr_datasets  = get_dataset(fr_ds, shuffle = True)\n",
    "\n",
    "libri_train, libri_valid = libri_speech['train'], libri_speech['valid']\n",
    "fr_train, fr_valid = train_test_split(fr_datasets, valid_size = 260, split_by_unique = True, shuffle = True)\n",
    "\n",
    "train, valid = concat(libri_train, fr_train), concat(libri_valid, fr_valid)\n",
    "\n",
    "train = AudioSiameseGenerator(\n",
    "    train, rate = model.audio_rate, mel_fn = model.mel_fn, nb_unique = 2048, max_by_id = 100,\n",
    "    cache_size = 100000, min_apparition = 1, shuffle = True, preload = preload, random_state = 10, tqdm = tqdm\n",
    ")\n",
    "valid = AudioSiameseGenerator(\n",
    "    valid, rate = model.audio_rate, mel_fn = model.mel_fn, nb_unique = 300, preload = preload, shuffle = False, tqdm = tqdm\n",
    ")\n",
    "\n",
    "print(\"Dataset length :\\n  Training set : {}\\n  Validation set : {}\".format(len(train), len(valid)))"
   ]
  },
  {
   "cell_type": "code",
   "execution_count": null,
   "metadata": {
    "tags": []
   },
   "outputs": [],
   "source": [
    "print(train, '\\n')\n",
    "print(valid)\n",
    "\n",
    "print(\"Number of ids in valid also in train : {}\".format(\n",
    "    sum([valid_id in train.ids for valid_id in valid.ids])\n",
    "))\n",
    "print(\"Number of ids in train also in train (to test) : {}\".format(\n",
    "    sum([train_id in train.ids for train_id in train.ids])\n",
    "))\n"
   ]
  },
  {
   "cell_type": "markdown",
   "metadata": {},
   "source": [
    "This cell is to re-build a new dataset with (more ?) speakers / data and re-build the cache"
   ]
  },
  {
   "cell_type": "code",
   "execution_count": 44,
   "metadata": {},
   "outputs": [
    {
     "name": "stderr",
     "output_type": "stream",
     "text": [
      "100%|██████████████████████████████████████████████████████████████████████████████| 8868/8868 [18:30<00:00,  7.99it/s]\n"
     ]
    }
   ],
   "source": [
    "train.build_datasets(nb_unique = 1024, max_by_id = 250, tqdm = tqdm)\n",
    "_ = train.build_cache(135000, 1, preload = True)"
   ]
  },
  {
   "cell_type": "markdown",
   "metadata": {},
   "source": [
    "These 2 cells can be used to pickle pre-loaded data (which can save some time if you want to re-train your model)"
   ]
  },
  {
   "cell_type": "code",
   "execution_count": 7,
   "metadata": {},
   "outputs": [],
   "source": [
    "import pickle\n",
    "\n",
    "with open('libri_cache.pkl', 'wb') as file:\n",
    "    pickle.dump(train.cache, file)"
   ]
  },
  {
   "cell_type": "code",
   "execution_count": null,
   "metadata": {},
   "outputs": [],
   "source": [
    "import pickle\n",
    "\n",
    "with open('libri_256_100.pkl', 'rb') as file:\n",
    "    train.cache = pickle.load(file)"
   ]
  },
  {
   "cell_type": "markdown",
   "metadata": {},
   "source": [
    "## Training\n",
    "\n",
    "Note that `cache = False` and `shuffle_size = 0` are recommanded to not waste memory / time as the `generator` already caches the right amount of file (to not overload your memory) and shuffle the whole dataset at every epoch. \n",
    "\n",
    "**Important** : it is possible that during 5-10 epochs the loss does not change at all. The reason is that the model has to learn the right parameters to separate datas between `same` and `not same` which can take some time (especially with `Adam`, `RMSProp` seems to speed up this learning). \n",
    "\n",
    "### History analysis \n",
    "\n",
    "As you can see, there is 3 phases in the training where epochs becomes longer (more steps). The reason is that I progressively increased the number of unique speaker in the dataset (256, 512 then 1024).\n",
    "\n",
    "At epoch 40, I stopped training (from 512 speakers) to increase it to 1024 as it started to be unstable (it is the hole in the validation history). \n",
    "\n",
    "Also note that in validation dataset there was only 40 speakers so the accuracy is more unstable than training which as far more data."
   ]
  },
  {
   "cell_type": "code",
   "execution_count": 46,
   "metadata": {},
   "outputs": [
    {
     "name": "stdout",
     "output_type": "stream",
     "text": [
      "Training samples   : 256000 - 16000 batches\n",
      "Validation samples : 4000 - 125 batches\n",
      "Training config :\n",
      "HParams :\n",
      "- augment_prct\t: 0.25\n",
      "- epochs\t: 50\n",
      "- batch_size\t: 16\n",
      "- valid_batch_size\t: 2.0\n",
      "- test_batch_size\t: 1\n",
      "- verbose\t: 1\n",
      "- train_times\t: 1\n",
      "- valid_times\t: 1\n",
      "- train_size\t: None\n",
      "- valid_size\t: None\n",
      "- test_size\t: 4\n",
      "- pred_step\t: -1\n",
      "- shuffle_size\t: 0\n",
      "\n",
      "Epoch 41/50\n",
      "  16000/Unknown - 1311s 82ms/step - loss: 0.1880 - siamese_BinaryAccuracy: 0.9282 - EER: 0.0714 - AUC: 0.9779\n",
      "Saving at epoch 41 !\n",
      "\n",
      "Making prediction at step 192000\n",
      "16000/16000 [==============================] - 1358s 85ms/step - loss: 0.1880 - siamese_BinaryAccuracy: 0.9282 - EER: 0.0714 - AUC: 0.9779 - val_loss: 0.2652 - val_siamese_BinaryAccuracy: 0.9055 - val_EER: 0.0961 - val_AUC: 0.9605\n",
      "Epoch 42/50\n",
      "16000/16000 [==============================] - ETA: 0s - loss: 0.1803 - siamese_BinaryAccuracy: 0.9311 - EER: 0.0693 - AUC: 0.9795\n",
      "Making prediction at step 208000\n",
      "16000/16000 [==============================] - 1338s 84ms/step - loss: 0.1803 - siamese_BinaryAccuracy: 0.9311 - EER: 0.0693 - AUC: 0.9795 - val_loss: 0.2652 - val_siamese_BinaryAccuracy: 0.9065 - val_EER: 0.0954 - val_AUC: 0.9609\n",
      "Epoch 43/50\n",
      "16000/16000 [==============================] - ETA: 0s - loss: 0.1773 - siamese_BinaryAccuracy: 0.9323 - EER: 0.0691 - AUC: 0.9801\n",
      "Making prediction at step 224000\n",
      "16000/16000 [==============================] - 2051s 128ms/step - loss: 0.1773 - siamese_BinaryAccuracy: 0.9323 - EER: 0.0691 - AUC: 0.9801 - val_loss: 0.2654 - val_siamese_BinaryAccuracy: 0.9064 - val_EER: 0.0965 - val_AUC: 0.9609\n",
      "Epoch 44/50\n",
      " 2450/16000 [===>..........................] - ETA: 17:47 - loss: 0.1804 - siamese_BinaryAccuracy: 0.9320 - EER: 0.0691 - AUC: 0.9792\n",
      "Saving after 1 hour training !\n",
      "16000/16000 [==============================] - ETA: 0s - loss: 0.1765 - siamese_BinaryAccuracy: 0.9328 - EER: 0.0685 - AUC: 0.9801\n",
      "Making prediction at step 240000\n",
      "16000/16000 [==============================] - 1300s 81ms/step - loss: 0.1765 - siamese_BinaryAccuracy: 0.9328 - EER: 0.0685 - AUC: 0.9801 - val_loss: 0.2695 - val_siamese_BinaryAccuracy: 0.9021 - val_EER: 0.0995 - val_AUC: 0.9599\n",
      "Epoch 45/50\n",
      "16000/16000 [==============================] - ETA: 0s - loss: 0.1740 - siamese_BinaryAccuracy: 0.9338 - EER: 0.0677 - AUC: 0.9807 - ETA: 17s - loss: 0.1740 - siamese_BinaryAccuracy: 0. - ETA: 14s - loss:  - ETA: 2s - loss: 0.1740 - siamese_BinaryAccuracy: 0.9338 - EER - ETA: 1s - loss: 0.1740 - siamese_BinaryAccuracy: 0.9338 - EER: 0.0677 - AUC: 0.98 - ETA: 1s - loss: 0.1740 - siamese_BinaryAccuracy: 0.9338\n",
      "Making prediction at step 256000\n",
      "16000/16000 [==============================] - 1379s 86ms/step - loss: 0.1740 - siamese_BinaryAccuracy: 0.9338 - EER: 0.0677 - AUC: 0.9807 - val_loss: 0.2691 - val_siamese_BinaryAccuracy: 0.9039 - val_EER: 0.0975 - val_AUC: 0.9598\n",
      "Epoch 46/50\n",
      " 8528/16000 [==============>...............] - ETA: 16:12 - loss: 0.1750 - siamese_BinaryAccuracy: 0.9327 - EER: 0.0682 - AUC: 0.9804\n",
      "Saving after 1 hour training !\n",
      "16000/16000 [==============================] - ETA: 0s - loss: 0.1746 - siamese_BinaryAccuracy: 0.9329 - EER: 0.0678 - AUC: 0.9805\n",
      "Making prediction at step 272000\n",
      "16000/16000 [==============================] - 2230s 139ms/step - loss: 0.1746 - siamese_BinaryAccuracy: 0.9329 - EER: 0.0678 - AUC: 0.9805 - val_loss: 0.2762 - val_siamese_BinaryAccuracy: 0.9032 - val_EER: 0.0974 - val_AUC: 0.9593\n",
      "Epoch 47/50\n",
      "16000/16000 [==============================] - ETA: 0s - loss: 0.1742 - siamese_BinaryAccuracy: 0.9338 - EER: 0.0678 - AUC: 0.9805\n",
      "Making prediction at step 288000\n",
      "16000/16000 [==============================] - 1672s 105ms/step - loss: 0.1742 - siamese_BinaryAccuracy: 0.9338 - EER: 0.0678 - AUC: 0.9805 - val_loss: 0.2782 - val_siamese_BinaryAccuracy: 0.9035 - val_EER: 0.0996 - val_AUC: 0.9589\n",
      "Epoch 48/50\n",
      " 8059/16000 [==============>...............] - ETA: 13:13 - loss: 0.1745 - siamese_BinaryAccuracy: 0.9325 - EER: 0.0678 - AUC: 0.9805\n",
      "Saving after 1 hour training !\n",
      "16000/16000 [==============================] - ETA: 0s - loss: 0.1740 - siamese_BinaryAccuracy: 0.9328 - EER: 0.0678 - AUC: 0.9806\n",
      "Making prediction at step 304000\n",
      "16000/16000 [==============================] - 1975s 123ms/step - loss: 0.1740 - siamese_BinaryAccuracy: 0.9328 - EER: 0.0678 - AUC: 0.9806 - val_loss: 0.2733 - val_siamese_BinaryAccuracy: 0.9025 - val_EER: 0.0985 - val_AUC: 0.9597\n",
      "Epoch 49/50\n",
      "16000/16000 [==============================] - ETA: 0s - loss: 0.1740 - siamese_BinaryAccuracy: 0.9328 - EER: 0.0683 - AUC: 0.9805\n",
      "Making prediction at step 320000\n",
      "16000/16000 [==============================] - 1842s 115ms/step - loss: 0.1740 - siamese_BinaryAccuracy: 0.9328 - EER: 0.0683 - AUC: 0.9805 - val_loss: 0.2728 - val_siamese_BinaryAccuracy: 0.9032 - val_EER: 0.0976 - val_AUC: 0.9600\n",
      "Epoch 50/50\n",
      " 7047/16000 [============>.................] - ETA: 12:29 - loss: 0.1734 - siamese_BinaryAccuracy: 0.9335 - EER: 0.0673 - AUC: 0.9807\n",
      "Saving after 1 hour training !\n",
      "16000/16000 [==============================] - ETA: 0s - loss: 0.1730 - siamese_BinaryAccuracy: 0.9337 - EER: 0.0679 - AUC: 0.9807 ETA: 1s - loss: 0.1730 - siamese_BinaryAccuracy\n",
      "Making prediction at step 336000\n",
      "16000/16000 [==============================] - 1857s 116ms/step - loss: 0.1730 - siamese_BinaryAccuracy: 0.9337 - EER: 0.0679 - AUC: 0.9807 - val_loss: 0.2774 - val_siamese_BinaryAccuracy: 0.9028 - val_EER: 0.0966 - val_AUC: 0.9598\n",
      "Training lasted 4h 43min 47sec !\n",
      "Submodel siamese saved in pretrained_models\\audio_siamese_256_mel_lstm\\saving\\siamese.json !\n"
     ]
    }
   ],
   "source": [
    "epochs = 10\n",
    "batch_size = 16\n",
    "\n",
    "print(\"Training samples   : {} - {} batches\".format(len(train), len(train) // batch_size))\n",
    "print(\"Validation samples : {} - {} batches\".format(len(valid), len(valid) // (batch_size * 2)))\n",
    "\n",
    "hist = model.train(\n",
    "    train, validation_data = valid, \n",
    "    epochs = epochs, batch_size = batch_size, valid_batch_size = 2.,\n",
    "    cache = False, shuffle_size = 0, augment_prct = 0.25\n",
    ")"
   ]
  },
  {
   "cell_type": "code",
   "execution_count": null,
   "metadata": {},
   "outputs": [],
   "source": [
    "model.plot_history()"
   ]
  },
  {
   "cell_type": "markdown",
   "metadata": {},
   "source": [
    "## Evaluation\n",
    "\n",
    "**Important** : this testing was done with an older model and not the one trained above.\n",
    "\n",
    "Explaination : on the metrics you can see `{test_ / val_ / } metric_name` : \n",
    "- The `test_` prefix is for testing (testing outside the training loop)\n",
    "- The `val_` prefix is for the validation metrics (validation set during training)\n",
    "- The metric without prefix is for the training metrics\n",
    "\n",
    "They are all shown in the final print of the `ProgressBar` callback because the `on_epoch_end()` is called with all metrics in `model.history` for this epoch (and then all metrics from training)\n",
    "\n",
    "During the testing progression, only `test_` metrics are shown\n",
    "\n",
    "It is a technical reason but important to explain it to avoid confusion ;)\n",
    "\n",
    "I decided to separate `test_` and `val_` prefix for 2 main reasons : \n",
    "1. It allows to separate validation and testing which can be done on different datasets\n",
    "2. Allow to test on other metrics (other than those used for training / validation) without modifying the validation metrics (not well supported yet)\n",
    "\n",
    "Indeed, as you use the validation set to fine-tune your model parameters, this set is not *completely* independant from your model / training procedure so testing on completely new datasets can be interesting !\n",
    "\n",
    "Here I made the testing on `valid` which is *theorically speaking* not a good idea but it is just a demonstration.\n",
    "\n",
    "A good idea could be to test the model on `LibriSpeech` while training / validating it on `common_voice` and `voxforge`  (or the opposit).\n",
    "\n",
    "As a side note : you can see the `testing config` contains `augment_prct` but in theory this parameter is **not** used in validation / testing so it is here just because it is a `training hyperparameter` but it is not used here"
   ]
  },
  {
   "cell_type": "code",
   "execution_count": 7,
   "metadata": {},
   "outputs": [
    {
     "name": "stdout",
     "output_type": "stream",
     "text": [
      "Testing config :\n",
      "HParams :\n",
      "- augment_prct\t: 0.25\n",
      "\n",
      "267/267 [==============================] - 9s 33ms/step - test_loss: 0.2271 - test_siamese_BinaryAccuracy: 0.9096 - test_EER: 0.0819 - test_AUC: 0.9694 - loss: 0.1732 - siamese_BinaryAccuracy: 0.9336 - EER: 0.0679 - AUC: 0.9806 - val_loss: 0.2774 - val_siamese_BinaryAccuracy: 0.9028 - val_EER: 0.0966 - val_AUC: 0.9598\n",
      "Testing lasted 11.847 sec !\n"
     ]
    }
   ],
   "source": [
    "h = model.test(valid)"
   ]
  },
  {
   "cell_type": "markdown",
   "metadata": {},
   "source": [
    "## Embedding\n",
    "\n",
    "What we can see in this plot : \n",
    "- Many color points in a black background : quite beautiful ! :D (points correspond to embedded audio while colors represent speakers)\n",
    "- We can observe clusters of points which are clearly identified and far away from other clusters\n",
    "- Some speakers seems to be hard to distinguish (points in the middle-right) : here can be some hypothesis\n",
    "    - Speakers have similar voices\n",
    "    - Audios are bad quality (noisy, ...) which can make the representation harder* (especially possible for the 2nd demonstration on `VoxForge`)\n",
    "\n",
    "Reminder : **all these speakers are totally unknown** ! The model **never** saw them in its training data\n",
    "\n",
    "Note : the model was trained on 50 epochs (less than 10h training on single GPU) and have a 90% binary accuracy on totally unseen datas, really impressive !\n",
    "\n",
    "**Important Note** : the 90% binary accuracy is **not** the real model performance but an estimation. Indeed its performance is computed on 40 speakers each 100 pairs `same` and `not-same` but it does **not** represent all possible pairs of data / speakers ! \n",
    "\n",
    "*`common_voice` and `voxforge` are datasets suited for `Text-To-Speech` and are not perfect quality audio : there is noise, bad quality recording, voice intensity highly variable, ... "
   ]
  },
  {
   "cell_type": "code",
   "execution_count": 50,
   "metadata": {},
   "outputs": [
    {
     "data": {
      "image/png": "[encoded data removed]",
      "text/plain": [
       "<Figure size 643.988x643.988 with 1 Axes>"
      ]
     },
     "metadata": {},
     "output_type": "display_data"
    }
   ],
   "source": [
    "ids = valid.ids[:20]\n",
    "samples = valid.sample(50, ids = ids)\n",
    "\n",
    "model.plot_embedding(samples)"
   ]
  },
  {
   "cell_type": "markdown",
   "metadata": {},
   "source": [
    "This second demonstration is even more impressive because audios are taken from the `VoxForge` french dataset while the model has been trained on `LibriSpeech` English dataset !"
   ]
  },
  {
   "cell_type": "code",
   "execution_count": 4,
   "metadata": {},
   "outputs": [
    {
     "name": "stdout",
     "output_type": "stream",
     "text": [
      "Loading dataset voxforge...\n"
     ]
    },
    {
     "data": {
      "image/png": "[encoded data removed]",
      "text/plain": [
       "<Figure size 643.988x643.988 with 1 Axes>"
      ]
     },
     "metadata": {
      "needs_background": "dark"
     },
     "output_type": "display_data"
    }
   ],
   "source": [
    "voxforge = get_dataset('voxforge')\n",
    "samples = sample_df(voxforge, n = 20, n_sample = 25)\n",
    "\n",
    "model.plot_embedding(samples)"
   ]
  },
  {
   "cell_type": "markdown",
   "metadata": {},
   "source": [
    "## Identify on file\n",
    "\n",
    "This feature allow to detect speakers in an audio and group parts of the audio where this speaker is speaking. \n",
    "\n",
    "This is an example of result on an interview (i.e. 2 speakers). You can see that it detects more than 2 speakers.\n",
    "The model is clearly not perfect and can make mistakes : some additional clusters are for speakers with some artifacts, and a complete cluster is for music !\n",
    "\n",
    "**WARNING** : this feature has not been tested since the refactoring, and can therefore fail. It will be cleaned and optimized in the next update."
   ]
  },
  {
   "cell_type": "code",
   "execution_count": 9,
   "metadata": {},
   "outputs": [
    {
     "name": "stdout",
     "output_type": "stream",
     "text": [
      "Processing file interview_resampled.mp3...\n"
     ]
    },
    {
     "name": "stderr",
     "output_type": "stream",
     "text": [
      "100%|████████████████████████████████████████████████████████████████████████████████████| 6/6 [00:00<00:00, 13.81it/s]\n",
      "100%|███████████████████████████████████████████████████████████████████████████████| 365/365 [00:02<00:00, 162.07it/s]\n",
      "100%|███████████████████████████████████████████████████████████████████████████████████| 5/5 [00:00<00:00, 998.74it/s]\n"
     ]
    },
    {
     "data": {
      "image/png": "[encoded data removed]",
      "text/plain": [
       "<Figure size 321.994x321.994 with 1 Axes>"
      ]
     },
     "metadata": {
      "needs_background": "dark"
     },
     "output_type": "display_data"
    },
    {
     "name": "stdout",
     "output_type": "stream",
     "text": [
      "Saving to directory pretrained_models\\audio_siamese_256_mel_lstm\\identification\\results\\interview_resampled_result\n",
      "Saving data to pretrained_models\\audio_siamese_256_mel_lstm\\identification\\results\\interview_resampled_result\\config.json\n",
      "Annotation of file interview_resampled.mp3 :\n",
      "- Total annotation time : 30min 28sec\n",
      "- Number of alignments : 366 (366 sub-parts)\n",
      "- Speakers (n = 5) : [0, 1, 2, 4, 5]\n",
      "\n"
     ]
    }
   ],
   "source": [
    "filename = 'interview_resampled.mp3'\n",
    "\n",
    "result = model.identify(\n",
    "    filename, step = 5., threshold = 0.7, min_threshold = 0.5, show = True, overwrite = True,\n",
    "    should_combine = False, min_cluster_size = 0, fusion_threshold = 2.\n",
    ")[0]\n",
    "\n",
    "print(result)\n",
    "#result.set_names()"
   ]
  },
  {
   "cell_type": "code",
   "execution_count": null,
   "metadata": {},
   "outputs": [],
   "source": [
    "result.set_names()"
   ]
  },
  {
   "cell_type": "markdown",
   "metadata": {},
   "source": [
    "## Embedding dataset\n",
    "\n",
    "This is the code I used to embed my datasets to use them in the `sv2tts` architecture"
   ]
  },
  {
   "cell_type": "code",
   "execution_count": null,
   "metadata": {
    "tags": []
   },
   "outputs": [],
   "source": [
    "model = get_pretrained(model_name)\n",
    "\n",
    "if not model.use_fixed_length_input: model.max_audio_time = 10.\n",
    "\n",
    "audio_kwargs = {\n",
    "    'trim_silence'  : True,\n",
    "    'reduce_noise'  : True,\n",
    "    'method'        : 'window',\n",
    "    'mode'          : 'start_end',\n",
    "    'threshold' : 0.075,\n",
    "}\n",
    "\n",
    "list_ds = [\n",
    "#    ('mls', '{}/MLS/fr'.format(get_dataset_dir())),\n",
    "    ('siwis',        '{}/SIWIS/fr'.format(get_dataset_dir())),\n",
    "    ('voxforge',     '{}/VoxForge'.format(get_dataset_dir())),\n",
    "    ('common_voice', '{}/CommonVoice'.format(get_dataset_dir()))\n",
    "]\n",
    "for name, path in list_ds:\n",
    "    ak = {} #if name != 'common_voice' else audio_kwargs\n",
    "    \n",
    "    ds = get_dataset(name)\n",
    "    \n",
    "    if isinstance(ds, dict):\n",
    "        for mode, ds_mode in ds.items():\n",
    "            if mode == 'valid': mode = 'test'\n",
    "            res = model.embed_dataset(\n",
    "                os.path.join(path, mode), ds_mode, save_every = 25000, cache_size = 10000,\n",
    "                embedding_name = model.nom\n",
    "            )\n",
    "            print(res)\n",
    "    else:\n",
    "        res = model.embed_dataset(\n",
    "            path, ds, save_every = 25000, cache_size = 10000,\n",
    "            embedding_name = model.nom, tqdm = tqdm\n",
    "        )\n",
    "        print(res)\n",
    "        plot_embedding(sample_df(res, n = 25, n_sample = 20))\n"
   ]
  },
  {
   "cell_type": "markdown",
   "metadata": {},
   "source": [
    "## Preprocessing\n",
    "\n",
    "This cell allows you to resample your dataset if you want a specific sampling rate\n",
    "\n",
    "This can be really useful in order to avoid resampling (which is quite slow) at every training time"
   ]
  },
  {
   "cell_type": "code",
   "execution_count": 1,
   "metadata": {},
   "outputs": [
    {
     "name": "stderr",
     "output_type": "stream",
     "text": [
      "0it [00:00, ?it/s]"
     ]
    },
    {
     "name": "stdout",
     "output_type": "stream",
     "text": [
      "Resampling dataset to 22050\n",
      "  2620 files already processed\n",
      "  0 files to process\n"
     ]
    },
    {
     "name": "stderr",
     "output_type": "stream",
     "text": [
      "\n",
      "0it [00:00, ?it/s]"
     ]
    },
    {
     "name": "stdout",
     "output_type": "stream",
     "text": [
      "Resampling dataset to 22050\n",
      "  28539 files already processed\n",
      "  0 files to process\n"
     ]
    },
    {
     "name": "stderr",
     "output_type": "stream",
     "text": [
      "\n",
      "0it [00:00, ?it/s]"
     ]
    },
    {
     "name": "stdout",
     "output_type": "stream",
     "text": [
      "Resampling dataset to 22050\n",
      "  104014 files already processed\n",
      "  0 files to process\n"
     ]
    },
    {
     "name": "stderr",
     "output_type": "stream",
     "text": [
      "\n"
     ]
    },
    {
     "data": {
      "text/html": [
       "<div>\n",
       "<style scoped>\n",
       "    .dataframe tbody tr th:only-of-type {\n",
       "        vertical-align: middle;\n",
       "    }\n",
       "\n",
       "    .dataframe tbody tr th {\n",
       "        vertical-align: top;\n",
       "    }\n",
       "\n",
       "    .dataframe thead th {\n",
       "        text-align: right;\n",
       "    }\n",
       "</style>\n",
       "<table border=\"1\" class=\"dataframe\">\n",
       "  <thead>\n",
       "    <tr style=\"text-align: right;\">\n",
       "      <th></th>\n",
       "      <th>filename</th>\n",
       "      <th>text</th>\n",
       "      <th>id</th>\n",
       "      <th>total_time</th>\n",
       "      <th>name</th>\n",
       "      <th>sex</th>\n",
       "      <th>wavs_22050</th>\n",
       "      <th>wavs_16000</th>\n",
       "    </tr>\n",
       "  </thead>\n",
       "  <tbody>\n",
       "    <tr>\n",
       "      <th>0</th>\n",
       "      <td>D:/datasets/LibriSpeech\\train-clean-360\\14\\208...</td>\n",
       "      <td>Chapter eleven the morrow brought a very sober...</td>\n",
       "      <td>14</td>\n",
       "      <td>25.03</td>\n",
       "      <td>Kristin LeMoine</td>\n",
       "      <td>F</td>\n",
       "      <td>D:/datasets/LibriSpeech\\wavs_22050_train-clean...</td>\n",
       "      <td>D:/datasets/LibriSpeech\\train-clean-360\\14\\208...</td>\n",
       "    </tr>\n",
       "    <tr>\n",
       "      <th>1</th>\n",
       "      <td>D:/datasets/LibriSpeech\\train-clean-360\\14\\208...</td>\n",
       "      <td>Declined giving any absolute promise of sunshi...</td>\n",
       "      <td>14</td>\n",
       "      <td>25.03</td>\n",
       "      <td>Kristin LeMoine</td>\n",
       "      <td>F</td>\n",
       "      <td>D:/datasets/LibriSpeech\\wavs_22050_train-clean...</td>\n",
       "      <td>D:/datasets/LibriSpeech\\train-clean-360\\14\\208...</td>\n",
       "    </tr>\n",
       "    <tr>\n",
       "      <th>2</th>\n",
       "      <td>D:/datasets/LibriSpeech\\train-clean-360\\14\\208...</td>\n",
       "      <td>At about eleven o'clock however a few specks o...</td>\n",
       "      <td>14</td>\n",
       "      <td>25.03</td>\n",
       "      <td>Kristin LeMoine</td>\n",
       "      <td>F</td>\n",
       "      <td>D:/datasets/LibriSpeech\\wavs_22050_train-clean...</td>\n",
       "      <td>D:/datasets/LibriSpeech\\train-clean-360\\14\\208...</td>\n",
       "    </tr>\n",
       "    <tr>\n",
       "      <th>3</th>\n",
       "      <td>D:/datasets/LibriSpeech\\train-clean-360\\14\\208...</td>\n",
       "      <td>I thought how it would be said missus allen no...</td>\n",
       "      <td>14</td>\n",
       "      <td>25.03</td>\n",
       "      <td>Kristin LeMoine</td>\n",
       "      <td>F</td>\n",
       "      <td>D:/datasets/LibriSpeech\\wavs_22050_train-clean...</td>\n",
       "      <td>D:/datasets/LibriSpeech\\train-clean-360\\14\\208...</td>\n",
       "    </tr>\n",
       "    <tr>\n",
       "      <th>4</th>\n",
       "      <td>D:/datasets/LibriSpeech\\train-clean-360\\14\\208...</td>\n",
       "      <td>It will be so dirty oh that will not signify i...</td>\n",
       "      <td>14</td>\n",
       "      <td>25.03</td>\n",
       "      <td>Kristin LeMoine</td>\n",
       "      <td>F</td>\n",
       "      <td>D:/datasets/LibriSpeech\\wavs_22050_train-clean...</td>\n",
       "      <td>D:/datasets/LibriSpeech\\train-clean-360\\14\\208...</td>\n",
       "    </tr>\n",
       "    <tr>\n",
       "      <th>...</th>\n",
       "      <td>...</td>\n",
       "      <td>...</td>\n",
       "      <td>...</td>\n",
       "      <td>...</td>\n",
       "      <td>...</td>\n",
       "      <td>...</td>\n",
       "      <td>...</td>\n",
       "      <td>...</td>\n",
       "    </tr>\n",
       "    <tr>\n",
       "      <th>104009</th>\n",
       "      <td>D:/datasets/LibriSpeech\\train-clean-360\\9026\\2...</td>\n",
       "      <td>And the road was good especially for thugs whi...</td>\n",
       "      <td>9026</td>\n",
       "      <td>21.75</td>\n",
       "      <td>Tammy Porter</td>\n",
       "      <td>F</td>\n",
       "      <td>D:/datasets/LibriSpeech\\wavs_22050_train-clean...</td>\n",
       "      <td>D:/datasets/LibriSpeech\\train-clean-360\\9026\\2...</td>\n",
       "    </tr>\n",
       "    <tr>\n",
       "      <th>104010</th>\n",
       "      <td>D:/datasets/LibriSpeech\\train-clean-360\\9026\\2...</td>\n",
       "      <td>It had simply changed from a poor man's camp t...</td>\n",
       "      <td>9026</td>\n",
       "      <td>21.75</td>\n",
       "      <td>Tammy Porter</td>\n",
       "      <td>F</td>\n",
       "      <td>D:/datasets/LibriSpeech\\wavs_22050_train-clean...</td>\n",
       "      <td>D:/datasets/LibriSpeech\\train-clean-360\\9026\\2...</td>\n",
       "    </tr>\n",
       "    <tr>\n",
       "      <th>104011</th>\n",
       "      <td>D:/datasets/LibriSpeech\\train-clean-360\\9026\\2...</td>\n",
       "      <td>This meant shafts tunnels hydraulic machinery ...</td>\n",
       "      <td>9026</td>\n",
       "      <td>21.75</td>\n",
       "      <td>Tammy Porter</td>\n",
       "      <td>F</td>\n",
       "      <td>D:/datasets/LibriSpeech\\wavs_22050_train-clean...</td>\n",
       "      <td>D:/datasets/LibriSpeech\\train-clean-360\\9026\\2...</td>\n",
       "    </tr>\n",
       "    <tr>\n",
       "      <th>104012</th>\n",
       "      <td>D:/datasets/LibriSpeech\\train-clean-360\\9026\\2...</td>\n",
       "      <td>Seeking the golden fleece of the hills as his ...</td>\n",
       "      <td>9026</td>\n",
       "      <td>21.75</td>\n",
       "      <td>Tammy Porter</td>\n",
       "      <td>F</td>\n",
       "      <td>D:/datasets/LibriSpeech\\wavs_22050_train-clean...</td>\n",
       "      <td>D:/datasets/LibriSpeech\\train-clean-360\\9026\\2...</td>\n",
       "    </tr>\n",
       "    <tr>\n",
       "      <th>104013</th>\n",
       "      <td>D:/datasets/LibriSpeech\\train-clean-360\\9026\\2...</td>\n",
       "      <td>An instrument for shaping empire for it was th...</td>\n",
       "      <td>9026</td>\n",
       "      <td>21.75</td>\n",
       "      <td>Tammy Porter</td>\n",
       "      <td>F</td>\n",
       "      <td>D:/datasets/LibriSpeech\\wavs_22050_train-clean...</td>\n",
       "      <td>D:/datasets/LibriSpeech\\train-clean-360\\9026\\2...</td>\n",
       "    </tr>\n",
       "  </tbody>\n",
       "</table>\n",
       "<p>104014 rows × 8 columns</p>\n",
       "</div>"
      ],
      "text/plain": [
       "                                                 filename  \\\n",
       "0       D:/datasets/LibriSpeech\\train-clean-360\\14\\208...   \n",
       "1       D:/datasets/LibriSpeech\\train-clean-360\\14\\208...   \n",
       "2       D:/datasets/LibriSpeech\\train-clean-360\\14\\208...   \n",
       "3       D:/datasets/LibriSpeech\\train-clean-360\\14\\208...   \n",
       "4       D:/datasets/LibriSpeech\\train-clean-360\\14\\208...   \n",
       "...                                                   ...   \n",
       "104009  D:/datasets/LibriSpeech\\train-clean-360\\9026\\2...   \n",
       "104010  D:/datasets/LibriSpeech\\train-clean-360\\9026\\2...   \n",
       "104011  D:/datasets/LibriSpeech\\train-clean-360\\9026\\2...   \n",
       "104012  D:/datasets/LibriSpeech\\train-clean-360\\9026\\2...   \n",
       "104013  D:/datasets/LibriSpeech\\train-clean-360\\9026\\2...   \n",
       "\n",
       "                                                     text    id  total_time  \\\n",
       "0       Chapter eleven the morrow brought a very sober...    14       25.03   \n",
       "1       Declined giving any absolute promise of sunshi...    14       25.03   \n",
       "2       At about eleven o'clock however a few specks o...    14       25.03   \n",
       "3       I thought how it would be said missus allen no...    14       25.03   \n",
       "4       It will be so dirty oh that will not signify i...    14       25.03   \n",
       "...                                                   ...   ...         ...   \n",
       "104009  And the road was good especially for thugs whi...  9026       21.75   \n",
       "104010  It had simply changed from a poor man's camp t...  9026       21.75   \n",
       "104011  This meant shafts tunnels hydraulic machinery ...  9026       21.75   \n",
       "104012  Seeking the golden fleece of the hills as his ...  9026       21.75   \n",
       "104013  An instrument for shaping empire for it was th...  9026       21.75   \n",
       "\n",
       "                   name sex  \\\n",
       "0       Kristin LeMoine   F   \n",
       "1       Kristin LeMoine   F   \n",
       "2       Kristin LeMoine   F   \n",
       "3       Kristin LeMoine   F   \n",
       "4       Kristin LeMoine   F   \n",
       "...                 ...  ..   \n",
       "104009     Tammy Porter   F   \n",
       "104010     Tammy Porter   F   \n",
       "104011     Tammy Porter   F   \n",
       "104012     Tammy Porter   F   \n",
       "104013     Tammy Porter   F   \n",
       "\n",
       "                                               wavs_22050  \\\n",
       "0       D:/datasets/LibriSpeech\\wavs_22050_train-clean...   \n",
       "1       D:/datasets/LibriSpeech\\wavs_22050_train-clean...   \n",
       "2       D:/datasets/LibriSpeech\\wavs_22050_train-clean...   \n",
       "3       D:/datasets/LibriSpeech\\wavs_22050_train-clean...   \n",
       "4       D:/datasets/LibriSpeech\\wavs_22050_train-clean...   \n",
       "...                                                   ...   \n",
       "104009  D:/datasets/LibriSpeech\\wavs_22050_train-clean...   \n",
       "104010  D:/datasets/LibriSpeech\\wavs_22050_train-clean...   \n",
       "104011  D:/datasets/LibriSpeech\\wavs_22050_train-clean...   \n",
       "104012  D:/datasets/LibriSpeech\\wavs_22050_train-clean...   \n",
       "104013  D:/datasets/LibriSpeech\\wavs_22050_train-clean...   \n",
       "\n",
       "                                               wavs_16000  \n",
       "0       D:/datasets/LibriSpeech\\train-clean-360\\14\\208...  \n",
       "1       D:/datasets/LibriSpeech\\train-clean-360\\14\\208...  \n",
       "2       D:/datasets/LibriSpeech\\train-clean-360\\14\\208...  \n",
       "3       D:/datasets/LibriSpeech\\train-clean-360\\14\\208...  \n",
       "4       D:/datasets/LibriSpeech\\train-clean-360\\14\\208...  \n",
       "...                                                   ...  \n",
       "104009  D:/datasets/LibriSpeech\\train-clean-360\\9026\\2...  \n",
       "104010  D:/datasets/LibriSpeech\\train-clean-360\\9026\\2...  \n",
       "104011  D:/datasets/LibriSpeech\\train-clean-360\\9026\\2...  \n",
       "104012  D:/datasets/LibriSpeech\\train-clean-360\\9026\\2...  \n",
       "104013  D:/datasets/LibriSpeech\\train-clean-360\\9026\\2...  \n",
       "\n",
       "[104014 rows x 8 columns]"
      ]
     },
     "execution_count": 1,
     "metadata": {},
     "output_type": "execute_result"
    }
   ],
   "source": [
    "from datasets.custom_datasets import get_dataset_dir, resample_librispeech\n",
    "\n",
    "path = '{}/LibriSpeech'.format(get_dataset_dir())\n",
    "resample_librispeech(path, 22050, subset = ['test-clean', 'train-clean-100', 'train-clean-360'])"
   ]
  },
  {
   "cell_type": "markdown",
   "metadata": {},
   "source": [
    "## Tests"
   ]
  },
  {
   "cell_type": "code",
   "execution_count": null,
   "metadata": {},
   "outputs": [],
   "source": [
    "config = model.get_dataset_config(batch_size = 16, is_validation = False, shuffle_size = 0)\n",
    "ds = prepare_dataset(train, ** config, debug = True)\n",
    "\n",
    "test_dataset_time(ds, steps = 50)"
   ]
  },
  {
   "cell_type": "code",
   "execution_count": 4,
   "metadata": {},
   "outputs": [
    {
     "data": {
      "image/png": "[encoded data removed]",
      "text/plain": [
       "<Figure size 432x288 with 1 Axes>"
      ]
     },
     "metadata": {},
     "output_type": "display_data"
    }
   ],
   "source": [
    "from custom_train_objects.optimizers import WarmupScheduler\n",
    "\n",
    "lr = WarmupScheduler(maxval = 1e-3, minval = 1e-4, factor = 256, warmup_steps = 4096)\n",
    "lr.plot(25000)"
   ]
  },
  {
   "cell_type": "code",
   "execution_count": null,
   "metadata": {},
   "outputs": [],
   "source": []
  }
 ],
 "metadata": {
  "kernelspec": {
   "display_name": "Python 3 (ipykernel)",
   "language": "python",
   "name": "python3"
  },
  "language_info": {
   "codemirror_mode": {
    "name": "ipython",
    "version": 3
   },
   "file_extension": ".py",
   "mimetype": "text/x-python",
   "name": "python",
   "nbconvert_exporter": "python",
   "pygments_lexer": "ipython3",
   "version": "3.10.5"
  }
 },
 "nbformat": 4,
 "nbformat_minor": 4
}
